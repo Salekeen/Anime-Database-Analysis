{
 "cells": [
  {
   "cell_type": "markdown",
   "metadata": {},
   "source": [
    "# Part 01 - Preliminary EDA\n",
    "These are the things I typically do whenever I get a new dataset to work with. What I want to accomplish with the dataset (it can be either modeling or just pure analysis) does not matter at this stage. All I want to do is to get to know my dataset just a bit, so that I can START TO ASK THE RIGHT QUESTION to my data (sort of).\n",
    "\n",
    "Sections are:\n",
    "- Checking Dtypes (Fixing if necessary)\n",
    "- Uniqueness check\n",
    "- Missing Value check\n",
    "- Distribution check of the features on the univariate level. (sometimes I do multivariate level when I feel like features are correlated among them or with the target)"
   ]
  },
  {
   "cell_type": "code",
   "execution_count": 1,
   "metadata": {},
   "outputs": [],
   "source": [
    "# Importing the dependencies\n",
    "import matplotlib.pyplot as plt\n",
    "import numpy as np\n",
    "import pandas as pd\n",
    "\n",
    "# We will use the Seaborn library\n",
    "import seaborn as sns\n",
    "\n",
    "sns.set()"
   ]
  },
  {
   "cell_type": "code",
   "execution_count": 2,
   "metadata": {},
   "outputs": [],
   "source": [
    "# Read the dataset\n",
    "anime_df = pd.read_csv(\"./data/anime.csv\")"
   ]
  },
  {
   "cell_type": "code",
   "execution_count": 3,
   "metadata": {},
   "outputs": [
    {
     "data": {
      "text/html": [
       "<div>\n",
       "<style scoped>\n",
       "    .dataframe tbody tr th:only-of-type {\n",
       "        vertical-align: middle;\n",
       "    }\n",
       "\n",
       "    .dataframe tbody tr th {\n",
       "        vertical-align: top;\n",
       "    }\n",
       "\n",
       "    .dataframe thead th {\n",
       "        text-align: right;\n",
       "    }\n",
       "</style>\n",
       "<table border=\"1\" class=\"dataframe\">\n",
       "  <thead>\n",
       "    <tr style=\"text-align: right;\">\n",
       "      <th></th>\n",
       "      <th>anime_id</th>\n",
       "      <th>name</th>\n",
       "      <th>genre</th>\n",
       "      <th>type</th>\n",
       "      <th>episodes</th>\n",
       "      <th>rating</th>\n",
       "      <th>members</th>\n",
       "    </tr>\n",
       "  </thead>\n",
       "  <tbody>\n",
       "    <tr>\n",
       "      <th>0</th>\n",
       "      <td>32281</td>\n",
       "      <td>Kimi no Na wa.</td>\n",
       "      <td>Drama, Romance, School, Supernatural</td>\n",
       "      <td>Movie</td>\n",
       "      <td>1</td>\n",
       "      <td>9.37</td>\n",
       "      <td>200630</td>\n",
       "    </tr>\n",
       "    <tr>\n",
       "      <th>1</th>\n",
       "      <td>5114</td>\n",
       "      <td>Fullmetal Alchemist: Brotherhood</td>\n",
       "      <td>Action, Adventure, Drama, Fantasy, Magic, Mili...</td>\n",
       "      <td>TV</td>\n",
       "      <td>64</td>\n",
       "      <td>9.26</td>\n",
       "      <td>793665</td>\n",
       "    </tr>\n",
       "    <tr>\n",
       "      <th>2</th>\n",
       "      <td>28977</td>\n",
       "      <td>Gintama°</td>\n",
       "      <td>Action, Comedy, Historical, Parody, Samurai, S...</td>\n",
       "      <td>TV</td>\n",
       "      <td>51</td>\n",
       "      <td>9.25</td>\n",
       "      <td>114262</td>\n",
       "    </tr>\n",
       "    <tr>\n",
       "      <th>3</th>\n",
       "      <td>9253</td>\n",
       "      <td>Steins;Gate</td>\n",
       "      <td>Sci-Fi, Thriller</td>\n",
       "      <td>TV</td>\n",
       "      <td>24</td>\n",
       "      <td>9.17</td>\n",
       "      <td>673572</td>\n",
       "    </tr>\n",
       "    <tr>\n",
       "      <th>4</th>\n",
       "      <td>9969</td>\n",
       "      <td>Gintama&amp;#039;</td>\n",
       "      <td>Action, Comedy, Historical, Parody, Samurai, S...</td>\n",
       "      <td>TV</td>\n",
       "      <td>51</td>\n",
       "      <td>9.16</td>\n",
       "      <td>151266</td>\n",
       "    </tr>\n",
       "  </tbody>\n",
       "</table>\n",
       "</div>"
      ],
      "text/plain": [
       "   anime_id                              name  \\\n",
       "0     32281                    Kimi no Na wa.   \n",
       "1      5114  Fullmetal Alchemist: Brotherhood   \n",
       "2     28977                          Gintama°   \n",
       "3      9253                       Steins;Gate   \n",
       "4      9969                     Gintama&#039;   \n",
       "\n",
       "                                               genre   type episodes  rating  \\\n",
       "0               Drama, Romance, School, Supernatural  Movie        1    9.37   \n",
       "1  Action, Adventure, Drama, Fantasy, Magic, Mili...     TV       64    9.26   \n",
       "2  Action, Comedy, Historical, Parody, Samurai, S...     TV       51    9.25   \n",
       "3                                   Sci-Fi, Thriller     TV       24    9.17   \n",
       "4  Action, Comedy, Historical, Parody, Samurai, S...     TV       51    9.16   \n",
       "\n",
       "   members  \n",
       "0   200630  \n",
       "1   793665  \n",
       "2   114262  \n",
       "3   673572  \n",
       "4   151266  "
      ]
     },
     "execution_count": 3,
     "metadata": {},
     "output_type": "execute_result"
    }
   ],
   "source": [
    "anime_df.head()"
   ]
  },
  {
   "cell_type": "code",
   "execution_count": 4,
   "metadata": {},
   "outputs": [
    {
     "data": {
      "text/plain": [
       "(12294, 7)"
      ]
     },
     "execution_count": 4,
     "metadata": {},
     "output_type": "execute_result"
    }
   ],
   "source": [
    "anime_df.shape"
   ]
  },
  {
   "cell_type": "markdown",
   "metadata": {},
   "source": [
    "- We have 12294 animes in the database"
   ]
  },
  {
   "cell_type": "markdown",
   "metadata": {},
   "source": [
    "### Dtypes Check\n",
    "\n",
    "- Here I'm basically checking whether the datatype represented in the dataset conforms to the datatype the column values should be in. For example: here **episodes** column encoded as object! This is countable and by nature numeric. Thus its better to represent it in numeric. It will allow us to use pandas built in methods for statistical analysis like min(),max().\n",
    "- yes! For any kind of modeling you need to convert everything to numbers! But for EDA it's not advisable!\n",
    "- Its better to be extra careful when you are reading data from .csv format. AS CSV DOES NOT STORE ANY INFO REGARDING DTYPES WHILE PERSISTING! Use parquet whenever you can!"
   ]
  },
  {
   "cell_type": "code",
   "execution_count": 5,
   "metadata": {},
   "outputs": [
    {
     "data": {
      "text/plain": [
       "anime_id      int64\n",
       "name         object\n",
       "genre        object\n",
       "type         object\n",
       "episodes     object\n",
       "rating      float64\n",
       "members       int64\n",
       "dtype: object"
      ]
     },
     "execution_count": 5,
     "metadata": {},
     "output_type": "execute_result"
    }
   ],
   "source": [
    "anime_df.dtypes"
   ]
  },
  {
   "cell_type": "code",
   "execution_count": 6,
   "metadata": {},
   "outputs": [],
   "source": [
    "# anime_df['episodes'] = anime_df['episodes'].astype(str).str.strip().astype(float)"
   ]
  },
  {
   "cell_type": "markdown",
   "metadata": {},
   "source": [
    "I can't do this, as it results in error in casting. Lets see whats going on!"
   ]
  },
  {
   "cell_type": "code",
   "execution_count": 7,
   "metadata": {},
   "outputs": [
    {
     "data": {
      "text/plain": [
       "0"
      ]
     },
     "execution_count": 7,
     "metadata": {},
     "output_type": "execute_result"
    }
   ],
   "source": [
    "anime_df['episodes'].isnull().sum()"
   ]
  },
  {
   "cell_type": "markdown",
   "metadata": {},
   "source": [
    "It says this column does not have any missing values! \n",
    "\n",
    "Lets look closely on the unique values it contains!"
   ]
  },
  {
   "cell_type": "code",
   "execution_count": 8,
   "metadata": {},
   "outputs": [
    {
     "data": {
      "text/plain": [
       "array(['1', '64', '51', '24', '10', '148', '110', '13', '201', '25', '22',\n",
       "       '75', '4', '26', '12', '27', '43', '74', '37', '2', '11', '99',\n",
       "       'Unknown', '39', '101', '47', '50', '62', '33', '112', '23', '3',\n",
       "       '94', '6', '8', '14', '7', '40', '15', '203', '77', '291', '120',\n",
       "       '102', '96', '38', '79', '175', '103', '70', '153', '45', '5',\n",
       "       '21', '63', '52', '28', '145', '36', '69', '60', '178', '114',\n",
       "       '35', '61', '34', '109', '20', '9', '49', '366', '97', '48', '78',\n",
       "       '358', '155', '104', '113', '54', '167', '161', '42', '142', '31',\n",
       "       '373', '220', '46', '195', '17', '1787', '73', '147', '127', '16',\n",
       "       '19', '98', '150', '76', '53', '124', '29', '115', '224', '44',\n",
       "       '58', '93', '154', '92', '67', '172', '86', '30', '276', '59',\n",
       "       '72', '330', '41', '105', '128', '137', '56', '55', '65', '243',\n",
       "       '193', '18', '191', '180', '91', '192', '66', '182', '32', '164',\n",
       "       '100', '296', '694', '95', '68', '117', '151', '130', '87', '170',\n",
       "       '119', '84', '108', '156', '140', '331', '305', '300', '510',\n",
       "       '200', '88', '1471', '526', '143', '726', '136', '1818', '237',\n",
       "       '1428', '365', '163', '283', '71', '260', '199', '225', '312',\n",
       "       '240', '1306', '1565', '773', '1274', '90', '475', '263', '83',\n",
       "       '85', '1006', '80', '162', '132', '141', '125'], dtype=object)"
      ]
     },
     "execution_count": 8,
     "metadata": {},
     "output_type": "execute_result"
    }
   ],
   "source": [
    "anime_df['episodes'].unique()"
   ]
  },
  {
   "cell_type": "markdown",
   "metadata": {},
   "source": [
    "- They encoded NULL values as 'Unknown' here. So Pandas treating it as string and cant cast this to numeric! This happens quite often. This is actually no one's fault. You may blame the data collector. But understand that collector has no way of knowing which technology will be used to handle the data.\n",
    "- Its better to be careful about this most of the time! I have seen empty string '' being encoded as missing values too! Which was painful to find out in the first place! If you can try to get the metadata about the dataset and see if there's any information regarding this. This will save you a lot of time!\n",
    "\n"
   ]
  },
  {
   "cell_type": "code",
   "execution_count": 9,
   "metadata": {},
   "outputs": [
    {
     "data": {
      "text/plain": [
       "anime_id    340\n",
       "name        340\n",
       "genre       329\n",
       "type        315\n",
       "episodes    340\n",
       "rating      188\n",
       "members     340\n",
       "dtype: int64"
      ]
     },
     "execution_count": 9,
     "metadata": {},
     "output_type": "execute_result"
    }
   ],
   "source": [
    "anime_df[anime_df['episodes'] == 'Unknown'].count()"
   ]
  },
  {
   "cell_type": "markdown",
   "metadata": {},
   "source": [
    "- There's 340 values in episodes columns encoded as Unknown. Its noticable that if it encoded as Unknown chances of value missing in other columns are high. Maybe these are obscure animes. Will check into details on this later.\n",
    "- But first lets change it to np.nan"
   ]
  },
  {
   "cell_type": "code",
   "execution_count": 10,
   "metadata": {},
   "outputs": [],
   "source": [
    "# anime_df['episodes'].replace('Unknown',np.nan,inplace=True)\n",
    "# anime_df['episodes'] = anime_df['episodes'].astype(str).astype('float16')\n",
    "\n",
    "# these two lines can be combined with this:\n",
    "\n",
    "anime_df['episodes'] = pd.to_numeric(anime_df['episodes'],errors='coerce',downcast='integer')"
   ]
  },
  {
   "cell_type": "code",
   "execution_count": 11,
   "metadata": {},
   "outputs": [
    {
     "data": {
      "text/plain": [
       "anime_id    0\n",
       "name        0\n",
       "genre       0\n",
       "type        0\n",
       "episodes    0\n",
       "rating      0\n",
       "members     0\n",
       "dtype: int64"
      ]
     },
     "execution_count": 11,
     "metadata": {},
     "output_type": "execute_result"
    }
   ],
   "source": [
    "anime_df[anime_df['episodes'] == 'Unknown'].count()"
   ]
  },
  {
   "cell_type": "code",
   "execution_count": 12,
   "metadata": {},
   "outputs": [
    {
     "data": {
      "text/plain": [
       "340"
      ]
     },
     "execution_count": 12,
     "metadata": {},
     "output_type": "execute_result"
    }
   ],
   "source": [
    "# Just a little sanity check!\n",
    "anime_df['episodes'].isnull().sum()"
   ]
  },
  {
   "cell_type": "markdown",
   "metadata": {},
   "source": [
    "### Uniqueness Check\n",
    "\n",
    "The reason you should do this is because most databases are not *normalized*! "
   ]
  },
  {
   "cell_type": "code",
   "execution_count": 13,
   "metadata": {},
   "outputs": [
    {
     "data": {
      "text/plain": [
       "True"
      ]
     },
     "execution_count": 13,
     "metadata": {},
     "output_type": "execute_result"
    }
   ],
   "source": [
    "anime_df.anime_id.is_unique"
   ]
  },
  {
   "cell_type": "code",
   "execution_count": 14,
   "metadata": {},
   "outputs": [
    {
     "data": {
      "text/plain": [
       "False"
      ]
     },
     "execution_count": 14,
     "metadata": {},
     "output_type": "execute_result"
    }
   ],
   "source": [
    "anime_df.name.is_unique"
   ]
  },
  {
   "cell_type": "markdown",
   "metadata": {},
   "source": [
    "- Though all the anime_id's are unique not all name of the anime's not unique"
   ]
  },
  {
   "cell_type": "code",
   "execution_count": 15,
   "metadata": {},
   "outputs": [
    {
     "data": {
      "text/plain": [
       "12292"
      ]
     },
     "execution_count": 15,
     "metadata": {},
     "output_type": "execute_result"
    }
   ],
   "source": [
    "anime_df['name'].nunique()"
   ]
  },
  {
   "cell_type": "markdown",
   "metadata": {},
   "source": [
    "- 2 values causing the problem\n",
    "\n",
    "Lets find those"
   ]
  },
  {
   "cell_type": "code",
   "execution_count": 16,
   "metadata": {},
   "outputs": [
    {
     "data": {
      "text/plain": [
       "array(['Saru Kani Gassen', 'Shi Wan Ge Leng Xiaohua'], dtype=object)"
      ]
     },
     "execution_count": 16,
     "metadata": {},
     "output_type": "execute_result"
    }
   ],
   "source": [
    "anime_df[anime_df['name'].duplicated()]['name'].values"
   ]
  },
  {
   "cell_type": "markdown",
   "metadata": {},
   "source": [
    "- Its weird they are seen as duplicated! Which they certainly arent! Will check how to solve this inconsistencies later"
   ]
  },
  {
   "cell_type": "markdown",
   "metadata": {},
   "source": [
    "### Missing Values Check"
   ]
  },
  {
   "cell_type": "markdown",
   "metadata": {},
   "source": [
    "- Previously we have encountered how this dataset encodes missing value in format that is not handled automatically by Pandas! So we have to extra careful here"
   ]
  },
  {
   "cell_type": "code",
   "execution_count": 17,
   "metadata": {},
   "outputs": [
    {
     "name": "stdout",
     "output_type": "stream",
     "text": [
      "anime_id : 0\n",
      "name : 0\n",
      "genre : 62\n",
      "type : 25\n",
      "episodes : 340\n",
      "rating : 230\n",
      "members : 0\n"
     ]
    }
   ],
   "source": [
    "for col in anime_df.columns:\n",
    "    print(f\"{col} : {anime_df[col].isnull().sum()}\")"
   ]
  },
  {
   "cell_type": "markdown",
   "metadata": {},
   "source": [
    "- will handle missing values in **genre, type and rating** later"
   ]
  },
  {
   "cell_type": "code",
   "execution_count": 18,
   "metadata": {},
   "outputs": [
    {
     "data": {
      "text/plain": [
       "['Movie', 'TV', 'OVA', 'Special', 'Music', 'ONA', nan]"
      ]
     },
     "execution_count": 18,
     "metadata": {},
     "output_type": "execute_result"
    }
   ],
   "source": [
    "anime_df['type'].unique().tolist()"
   ]
  },
  {
   "cell_type": "markdown",
   "metadata": {},
   "source": [
    "- Looks good for now!"
   ]
  },
  {
   "cell_type": "markdown",
   "metadata": {},
   "source": [
    "### Lets check some distribution of our features"
   ]
  },
  {
   "cell_type": "markdown",
   "metadata": {},
   "source": [
    "##### Type"
   ]
  },
  {
   "cell_type": "code",
   "execution_count": 19,
   "metadata": {},
   "outputs": [
    {
     "data": {
      "text/plain": [
       "TV         3787\n",
       "OVA        3311\n",
       "Movie      2348\n",
       "Special    1676\n",
       "ONA         659\n",
       "Music       488\n",
       "Name: type, dtype: int64"
      ]
     },
     "execution_count": 19,
     "metadata": {},
     "output_type": "execute_result"
    }
   ],
   "source": [
    "anime_df['type'].value_counts()"
   ]
  },
  {
   "cell_type": "code",
   "execution_count": 20,
   "metadata": {},
   "outputs": [
    {
     "data": {
      "image/png": "[encoded data removed]",
      "text/plain": [
       "<Figure size 640x480 with 1 Axes>"
      ]
     },
     "metadata": {},
     "output_type": "display_data"
    }
   ],
   "source": [
    "# visualizing is always better\n",
    "# as this is a categorical variable I'm using bar plot\n",
    "# which is implemented as countplot in seaborn\n",
    "sns.countplot(x=anime_df['type'])\n",
    "plt.show()"
   ]
  },
  {
   "cell_type": "markdown",
   "metadata": {},
   "source": [
    "#### Episodes"
   ]
  },
  {
   "cell_type": "code",
   "execution_count": 21,
   "metadata": {},
   "outputs": [
    {
     "data": {
      "text/plain": [
       "count    11954.000000\n",
       "mean        12.382550\n",
       "std         46.865352\n",
       "min          1.000000\n",
       "25%          1.000000\n",
       "50%          2.000000\n",
       "75%         12.000000\n",
       "max       1818.000000\n",
       "Name: episodes, dtype: float64"
      ]
     },
     "execution_count": 21,
     "metadata": {},
     "output_type": "execute_result"
    }
   ],
   "source": [
    "anime_df['episodes'].describe()"
   ]
  },
  {
   "cell_type": "markdown",
   "metadata": {},
   "source": [
    "- its interesting that at 75th percentile the number of episodes per anime is about 12 which is approximately same as the mean of this distribution!"
   ]
  },
  {
   "cell_type": "markdown",
   "metadata": {},
   "source": [
    "Lets plot the distribution\n",
    "- As this distribution is heavily skewed, Its better to visualize it in the log scale"
   ]
  },
  {
   "cell_type": "code",
   "execution_count": 22,
   "metadata": {},
   "outputs": [
    {
     "data": {
      "image/png": "[encoded data removed]",
      "text/plain": [
       "<Figure size 640x480 with 1 Axes>"
      ]
     },
     "metadata": {},
     "output_type": "display_data"
    }
   ],
   "source": [
    "sns.histplot(data=anime_df,x='episodes',log_scale=True,fill=False)\n",
    "plt.grid(False)\n",
    "plt.show()"
   ]
  },
  {
   "cell_type": "markdown",
   "metadata": {},
   "source": [
    "#### Rating"
   ]
  },
  {
   "cell_type": "code",
   "execution_count": 23,
   "metadata": {},
   "outputs": [
    {
     "data": {
      "image/png": "[encoded data removed]",
      "text/plain": [
       "<Figure size 640x480 with 1 Axes>"
      ]
     },
     "metadata": {},
     "output_type": "display_data"
    }
   ],
   "source": [
    "sns.histplot(data=anime_df, x=\"rating\",kde=True)\n",
    "plt.show()"
   ]
  },
  {
   "cell_type": "markdown",
   "metadata": {},
   "source": [
    "- seems like rating follows a nice normal distribution"
   ]
  },
  {
   "cell_type": "markdown",
   "metadata": {},
   "source": [
    "### End Notes:\n",
    "- At this point my premilinary EDA is done! \n",
    "- Next step is basically me generating questions my dataset can answer, and trying to implement that in code! Which is for part 2!"
   ]
  },
  {
   "cell_type": "code",
   "execution_count": 25,
   "metadata": {},
   "outputs": [],
   "source": [
    "# Lets just save this anime_df to pickle\n",
    "# You should use DVC to track the data lineage! Let's not do this now!\n",
    "anime_df.to_pickle(\"./dataframes/anime_df_afterPRE-EDA.pkl\")"
   ]
  }
 ],
 "metadata": {
  "kernelspec": {
   "display_name": "Python 3.7.15 ('xlearn')",
   "language": "python",
   "name": "python3"
  },
  "language_info": {
   "codemirror_mode": {
    "name": "ipython",
    "version": 3
   },
   "file_extension": ".py",
   "mimetype": "text/x-python",
   "name": "python",
   "nbconvert_exporter": "python",
   "pygments_lexer": "ipython3",
   "version": "3.7.15"
  },
  "orig_nbformat": 4,
  "vscode": {
   "interpreter": {
    "hash": "e2c1c044cc1c75da8782298e5a2cfc6cf917b9511282692fcf0e6a11b7e674f9"
   }
  }
 },
 "nbformat": 4,
 "nbformat_minor": 2
}
