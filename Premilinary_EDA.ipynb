{
 "cells": [
  {
   "cell_type": "code",
   "execution_count": 1,
   "metadata": {},
   "outputs": [],
   "source": [
    "# Matplotlib forms basis for visualization in Python\n",
    "import matplotlib.pyplot as plt\n",
    "import numpy as np\n",
    "import pandas as pd\n",
    "\n",
    "# We will use the Seaborn library\n",
    "import seaborn as sns\n",
    "\n",
    "sns.set()\n",
    "\n",
    "# Graphics in SVG format are more sharp and legible\n",
    "%config InlineBackend.figure_format = 'svg'"
   ]
  },
  {
   "cell_type": "code",
   "execution_count": 2,
   "metadata": {},
   "outputs": [],
   "source": [
    "anime_df = pd.read_csv(\"./data/anime.csv\")"
   ]
  },
  {
   "cell_type": "code",
   "execution_count": 3,
   "metadata": {},
   "outputs": [
    {
     "data": {
      "text/html": [
       "<div>\n",
       "<style scoped>\n",
       "    .dataframe tbody tr th:only-of-type {\n",
       "        vertical-align: middle;\n",
       "    }\n",
       "\n",
       "    .dataframe tbody tr th {\n",
       "        vertical-align: top;\n",
       "    }\n",
       "\n",
       "    .dataframe thead th {\n",
       "        text-align: right;\n",
       "    }\n",
       "</style>\n",
       "<table border=\"1\" class=\"dataframe\">\n",
       "  <thead>\n",
       "    <tr style=\"text-align: right;\">\n",
       "      <th></th>\n",
       "      <th>anime_id</th>\n",
       "      <th>name</th>\n",
       "      <th>genre</th>\n",
       "      <th>type</th>\n",
       "      <th>episodes</th>\n",
       "      <th>rating</th>\n",
       "      <th>members</th>\n",
       "    </tr>\n",
       "  </thead>\n",
       "  <tbody>\n",
       "    <tr>\n",
       "      <th>0</th>\n",
       "      <td>32281</td>\n",
       "      <td>Kimi no Na wa.</td>\n",
       "      <td>Drama, Romance, School, Supernatural</td>\n",
       "      <td>Movie</td>\n",
       "      <td>1</td>\n",
       "      <td>9.37</td>\n",
       "      <td>200630</td>\n",
       "    </tr>\n",
       "    <tr>\n",
       "      <th>1</th>\n",
       "      <td>5114</td>\n",
       "      <td>Fullmetal Alchemist: Brotherhood</td>\n",
       "      <td>Action, Adventure, Drama, Fantasy, Magic, Mili...</td>\n",
       "      <td>TV</td>\n",
       "      <td>64</td>\n",
       "      <td>9.26</td>\n",
       "      <td>793665</td>\n",
       "    </tr>\n",
       "    <tr>\n",
       "      <th>2</th>\n",
       "      <td>28977</td>\n",
       "      <td>Gintama°</td>\n",
       "      <td>Action, Comedy, Historical, Parody, Samurai, S...</td>\n",
       "      <td>TV</td>\n",
       "      <td>51</td>\n",
       "      <td>9.25</td>\n",
       "      <td>114262</td>\n",
       "    </tr>\n",
       "    <tr>\n",
       "      <th>3</th>\n",
       "      <td>9253</td>\n",
       "      <td>Steins;Gate</td>\n",
       "      <td>Sci-Fi, Thriller</td>\n",
       "      <td>TV</td>\n",
       "      <td>24</td>\n",
       "      <td>9.17</td>\n",
       "      <td>673572</td>\n",
       "    </tr>\n",
       "    <tr>\n",
       "      <th>4</th>\n",
       "      <td>9969</td>\n",
       "      <td>Gintama&amp;#039;</td>\n",
       "      <td>Action, Comedy, Historical, Parody, Samurai, S...</td>\n",
       "      <td>TV</td>\n",
       "      <td>51</td>\n",
       "      <td>9.16</td>\n",
       "      <td>151266</td>\n",
       "    </tr>\n",
       "  </tbody>\n",
       "</table>\n",
       "</div>"
      ],
      "text/plain": [
       "   anime_id                              name  \\\n",
       "0     32281                    Kimi no Na wa.   \n",
       "1      5114  Fullmetal Alchemist: Brotherhood   \n",
       "2     28977                          Gintama°   \n",
       "3      9253                       Steins;Gate   \n",
       "4      9969                     Gintama&#039;   \n",
       "\n",
       "                                               genre   type episodes  rating  \\\n",
       "0               Drama, Romance, School, Supernatural  Movie        1    9.37   \n",
       "1  Action, Adventure, Drama, Fantasy, Magic, Mili...     TV       64    9.26   \n",
       "2  Action, Comedy, Historical, Parody, Samurai, S...     TV       51    9.25   \n",
       "3                                   Sci-Fi, Thriller     TV       24    9.17   \n",
       "4  Action, Comedy, Historical, Parody, Samurai, S...     TV       51    9.16   \n",
       "\n",
       "   members  \n",
       "0   200630  \n",
       "1   793665  \n",
       "2   114262  \n",
       "3   673572  \n",
       "4   151266  "
      ]
     },
     "execution_count": 3,
     "metadata": {},
     "output_type": "execute_result"
    }
   ],
   "source": [
    "anime_df.head()"
   ]
  },
  {
   "cell_type": "code",
   "execution_count": 4,
   "metadata": {},
   "outputs": [
    {
     "data": {
      "text/plain": [
       "(12294, 7)"
      ]
     },
     "execution_count": 4,
     "metadata": {},
     "output_type": "execute_result"
    }
   ],
   "source": [
    "anime_df.shape"
   ]
  },
  {
   "cell_type": "markdown",
   "metadata": {},
   "source": [
    "- We have 12294 animes in the database"
   ]
  },
  {
   "cell_type": "markdown",
   "metadata": {},
   "source": [
    "### Fixing Dtypes "
   ]
  },
  {
   "cell_type": "code",
   "execution_count": 5,
   "metadata": {},
   "outputs": [
    {
     "data": {
      "text/plain": [
       "anime_id      int64\n",
       "name         object\n",
       "genre        object\n",
       "type         object\n",
       "episodes     object\n",
       "rating      float64\n",
       "members       int64\n",
       "dtype: object"
      ]
     },
     "execution_count": 5,
     "metadata": {},
     "output_type": "execute_result"
    }
   ],
   "source": [
    "anime_df.dtypes"
   ]
  },
  {
   "cell_type": "markdown",
   "metadata": {},
   "source": [
    "- Here **episodes** column encoded as object! This will hamper our preliminary analysis! Lets change this to integers"
   ]
  },
  {
   "cell_type": "code",
   "execution_count": 6,
   "metadata": {},
   "outputs": [],
   "source": [
    "# anime_df['episodes'] = anime_df['episodes'].astype(str).str.strip().astype(float)\n",
    "# I cant do this, as it results in error in casting\n",
    "# Lets see whats going on"
   ]
  },
  {
   "cell_type": "code",
   "execution_count": 7,
   "metadata": {},
   "outputs": [
    {
     "data": {
      "text/plain": [
       "0"
      ]
     },
     "execution_count": 7,
     "metadata": {},
     "output_type": "execute_result"
    }
   ],
   "source": [
    "anime_df['episodes'].isnull().sum()\n",
    "# It says no missing values"
   ]
  },
  {
   "cell_type": "code",
   "execution_count": 8,
   "metadata": {},
   "outputs": [
    {
     "data": {
      "text/plain": [
       "array(['1', '64', '51', '24', '10', '148', '110', '13', '201', '25', '22',\n",
       "       '75', '4', '26', '12', '27', '43', '74', '37', '2', '11', '99',\n",
       "       'Unknown', '39', '101', '47', '50', '62', '33', '112', '23', '3',\n",
       "       '94', '6', '8', '14', '7', '40', '15', '203', '77', '291', '120',\n",
       "       '102', '96', '38', '79', '175', '103', '70', '153', '45', '5',\n",
       "       '21', '63', '52', '28', '145', '36', '69', '60', '178', '114',\n",
       "       '35', '61', '34', '109', '20', '9', '49', '366', '97', '48', '78',\n",
       "       '358', '155', '104', '113', '54', '167', '161', '42', '142', '31',\n",
       "       '373', '220', '46', '195', '17', '1787', '73', '147', '127', '16',\n",
       "       '19', '98', '150', '76', '53', '124', '29', '115', '224', '44',\n",
       "       '58', '93', '154', '92', '67', '172', '86', '30', '276', '59',\n",
       "       '72', '330', '41', '105', '128', '137', '56', '55', '65', '243',\n",
       "       '193', '18', '191', '180', '91', '192', '66', '182', '32', '164',\n",
       "       '100', '296', '694', '95', '68', '117', '151', '130', '87', '170',\n",
       "       '119', '84', '108', '156', '140', '331', '305', '300', '510',\n",
       "       '200', '88', '1471', '526', '143', '726', '136', '1818', '237',\n",
       "       '1428', '365', '163', '283', '71', '260', '199', '225', '312',\n",
       "       '240', '1306', '1565', '773', '1274', '90', '475', '263', '83',\n",
       "       '85', '1006', '80', '162', '132', '141', '125'], dtype=object)"
      ]
     },
     "execution_count": 8,
     "metadata": {},
     "output_type": "execute_result"
    }
   ],
   "source": [
    "anime_df['episodes'].unique()"
   ]
  },
  {
   "cell_type": "markdown",
   "metadata": {},
   "source": [
    "- They encoded NULL values as 'Unknown' here\n",
    "\n",
    "This happens quite often! Lets change it"
   ]
  },
  {
   "cell_type": "code",
   "execution_count": 9,
   "metadata": {},
   "outputs": [
    {
     "data": {
      "text/plain": [
       "anime_id    340\n",
       "name        340\n",
       "genre       329\n",
       "type        315\n",
       "episodes    340\n",
       "rating      188\n",
       "members     340\n",
       "dtype: int64"
      ]
     },
     "execution_count": 9,
     "metadata": {},
     "output_type": "execute_result"
    }
   ],
   "source": [
    "anime_df[anime_df['episodes'] == 'Unknown'].count()"
   ]
  },
  {
   "cell_type": "markdown",
   "metadata": {},
   "source": [
    "- There's 340 values in episodes columns encoded as Unknown\n",
    "- Its noticable that if it encoded as Unknown chances of value missing in other columns are high\n",
    "- maybe these are obscure animes\n",
    "- will check into details later\n",
    "\n",
    "But first lets change it to np.nan"
   ]
  },
  {
   "cell_type": "code",
   "execution_count": 10,
   "metadata": {},
   "outputs": [],
   "source": [
    "# anime_df['episodes'].replace('Unknown',np.nan,inplace=True)\n",
    "# anime_df['episodes'] = anime_df['episodes'].astype(str).astype('float16')\n",
    "\n",
    "# these two lines can be combined with this:\n",
    "\n",
    "anime_df['episodes'] = pd.to_numeric(anime_df['episodes'],errors='coerce',downcast='integer')"
   ]
  },
  {
   "cell_type": "code",
   "execution_count": 11,
   "metadata": {},
   "outputs": [
    {
     "data": {
      "text/plain": [
       "anime_id    0\n",
       "name        0\n",
       "genre       0\n",
       "type        0\n",
       "episodes    0\n",
       "rating      0\n",
       "members     0\n",
       "dtype: int64"
      ]
     },
     "execution_count": 11,
     "metadata": {},
     "output_type": "execute_result"
    }
   ],
   "source": [
    "anime_df[anime_df['episodes'] == 'Unknown'].count()"
   ]
  },
  {
   "cell_type": "markdown",
   "metadata": {},
   "source": [
    "- Looks good now!\n",
    "- Lets change our dtype to integer now"
   ]
  },
  {
   "cell_type": "code",
   "execution_count": 12,
   "metadata": {},
   "outputs": [
    {
     "data": {
      "text/plain": [
       "340"
      ]
     },
     "execution_count": 12,
     "metadata": {},
     "output_type": "execute_result"
    }
   ],
   "source": [
    "anime_df['episodes'].isnull().sum()"
   ]
  },
  {
   "cell_type": "markdown",
   "metadata": {},
   "source": [
    "- Works NOW!"
   ]
  },
  {
   "cell_type": "markdown",
   "metadata": {},
   "source": [
    "### Uniqueness Check"
   ]
  },
  {
   "cell_type": "code",
   "execution_count": 13,
   "metadata": {},
   "outputs": [
    {
     "data": {
      "text/plain": [
       "True"
      ]
     },
     "execution_count": 13,
     "metadata": {},
     "output_type": "execute_result"
    }
   ],
   "source": [
    "anime_df.anime_id.is_unique"
   ]
  },
  {
   "cell_type": "code",
   "execution_count": 14,
   "metadata": {},
   "outputs": [
    {
     "data": {
      "text/plain": [
       "False"
      ]
     },
     "execution_count": 14,
     "metadata": {},
     "output_type": "execute_result"
    }
   ],
   "source": [
    "anime_df.name.is_unique"
   ]
  },
  {
   "cell_type": "markdown",
   "metadata": {},
   "source": [
    "- Though all the anime_id's are unique not all name of the anime's not unique"
   ]
  },
  {
   "cell_type": "code",
   "execution_count": 15,
   "metadata": {},
   "outputs": [
    {
     "data": {
      "text/plain": [
       "12292"
      ]
     },
     "execution_count": 15,
     "metadata": {},
     "output_type": "execute_result"
    }
   ],
   "source": [
    "anime_df['name'].nunique()"
   ]
  },
  {
   "cell_type": "markdown",
   "metadata": {},
   "source": [
    "- 2 values causing the problem\n",
    "\n",
    "Lets find those"
   ]
  },
  {
   "cell_type": "code",
   "execution_count": 16,
   "metadata": {},
   "outputs": [
    {
     "data": {
      "text/plain": [
       "array(['Saru Kani Gassen', 'Shi Wan Ge Leng Xiaohua'], dtype=object)"
      ]
     },
     "execution_count": 16,
     "metadata": {},
     "output_type": "execute_result"
    }
   ],
   "source": [
    "anime_df[anime_df['name'].duplicated()]['name'].values"
   ]
  },
  {
   "cell_type": "markdown",
   "metadata": {},
   "source": [
    "- Its weird they are seen as duplicated! Which they certainly arent! Will check how to solve this inconsistencies later"
   ]
  },
  {
   "cell_type": "markdown",
   "metadata": {},
   "source": [
    "### Missing Values Check"
   ]
  },
  {
   "cell_type": "markdown",
   "metadata": {},
   "source": [
    "- Previously we have encountered how this dataset encodes missing value in format that is not handled automatically by Pandas! So we have to extra careful here"
   ]
  },
  {
   "cell_type": "code",
   "execution_count": 17,
   "metadata": {},
   "outputs": [
    {
     "name": "stdout",
     "output_type": "stream",
     "text": [
      "anime_id : 0\n",
      "name : 0\n",
      "genre : 62\n",
      "type : 25\n",
      "episodes : 340\n",
      "rating : 230\n",
      "members : 0\n"
     ]
    }
   ],
   "source": [
    "for col in anime_df.columns:\n",
    "    print(f\"{col} : {anime_df[col].isnull().sum()}\")"
   ]
  },
  {
   "cell_type": "markdown",
   "metadata": {},
   "source": [
    "- will handle missing values in **genre, type and rating** later"
   ]
  },
  {
   "cell_type": "code",
   "execution_count": 18,
   "metadata": {},
   "outputs": [
    {
     "data": {
      "text/plain": [
       "['Movie', 'TV', 'OVA', 'Special', 'Music', 'ONA', nan]"
      ]
     },
     "execution_count": 18,
     "metadata": {},
     "output_type": "execute_result"
    }
   ],
   "source": [
    "anime_df['type'].unique().tolist()"
   ]
  },
  {
   "cell_type": "markdown",
   "metadata": {},
   "source": [
    "- Looks good for now!"
   ]
  },
  {
   "cell_type": "markdown",
   "metadata": {},
   "source": [
    "### Lets check some distribution of our features"
   ]
  },
  {
   "cell_type": "markdown",
   "metadata": {},
   "source": [
    "##### Type"
   ]
  },
  {
   "cell_type": "code",
   "execution_count": 19,
   "metadata": {},
   "outputs": [
    {
     "data": {
      "text/plain": [
       "TV         3787\n",
       "OVA        3311\n",
       "Movie      2348\n",
       "Special    1676\n",
       "ONA         659\n",
       "Music       488\n",
       "Name: type, dtype: int64"
      ]
     },
     "execution_count": 19,
     "metadata": {},
     "output_type": "execute_result"
    }
   ],
   "source": [
    "anime_df['type'].value_counts()"
   ]
  },
  {
   "cell_type": "code",
   "execution_count": 20,
   "metadata": {},
   "outputs": [
    {
     "data": {
      "image/svg+xml": "<?xml version=\"1.0\" encoding=\"utf-8\" standalone=\"no\"?>\n<!DOCTYPE svg PUBLIC \"-//W3C//DTD SVG 1.1//EN\"\n  \"http://www.w3.org/Graphics/SVG/1.1/DTD/svg11.dtd\">\n<svg xmlns:xlink=\"http://www.w3.org/1999/xlink\" width=\"420.4625pt\" height=\"315.180281pt\" viewBox=\"0 0 420.4625 315.180281\" xmlns=\"http://www.w3.org/2000/svg\" version=\"1.1\">\n <metadata>\n  <rdf:RDF xmlns:dc=\"http://purl.org/dc/elements/1.1/\" xmlns:cc=\"http://creativecommons.org/ns#\" xmlns:rdf=\"http://www.w3.org/1999/02/22-rdf-syntax-ns#\">\n   <cc:Work>\n    <dc:type rdf:resource=\"http://purl.org/dc/dcmitype/StillImage\"/>\n    <dc:date>2022-12-02T14:53:40.187375</dc:date>\n    <dc:format>image/svg+xml</dc:format>\n    <dc:creator>\n     <cc:Agent>\n      <dc:title>Matplotlib v3.6.2, https://matplotlib.org/</dc:title>\n     </cc:Agent>\n    </dc:creator>\n   </cc:Work>\n  </rdf:RDF>\n </metadata>\n <defs>\n  <style type=\"text/css\">*{stroke-linejoin: round; stroke-linecap: butt}</style>\n </defs>\n <g id=\"figure_1\">\n  <g id=\"patch_1\">\n   <path d=\"M 0 315.180281 \nL 420.4625 315.180281 \nL 420.4625 0 \nL 0 0 \nz\n\" style=\"fill: #ffffff\"/>\n  </g>\n  <g id=\"axes_1\">\n   <g id=\"patch_2\">\n    <path d=\"M 56.1425 273.312 \nL 413.2625 273.312 \nL 413.2625 7.2 \nL 56.1425 7.2 \nz\n\" style=\"fill: #eaeaf2\"/>\n   </g>\n   <g id=\"matplotlib.axis_1\">\n    <g id=\"xtick_1\">\n     <g id=\"text_1\">\n      <!-- Movie -->\n      <g style=\"fill: #262626\" transform=\"translate(71.232109 290.685594) scale(0.11 -0.11)\">\n       <defs>\n        <path id=\"ArialMT-4d\" d=\"M 475 0 \nL 475 4581 \nL 1388 4581 \nL 2472 1338 \nQ 2622 884 2691 659 \nQ 2769 909 2934 1394 \nL 4031 4581 \nL 4847 4581 \nL 4847 0 \nL 4263 0 \nL 4263 3834 \nL 2931 0 \nL 2384 0 \nL 1059 3900 \nL 1059 0 \nL 475 0 \nz\n\" transform=\"scale(0.015625)\"/>\n        <path id=\"ArialMT-6f\" d=\"M 213 1659 \nQ 213 2581 725 3025 \nQ 1153 3394 1769 3394 \nQ 2453 3394 2887 2945 \nQ 3322 2497 3322 1706 \nQ 3322 1066 3130 698 \nQ 2938 331 2570 128 \nQ 2203 -75 1769 -75 \nQ 1072 -75 642 372 \nQ 213 819 213 1659 \nz\nM 791 1659 \nQ 791 1022 1069 705 \nQ 1347 388 1769 388 \nQ 2188 388 2466 706 \nQ 2744 1025 2744 1678 \nQ 2744 2294 2464 2611 \nQ 2184 2928 1769 2928 \nQ 1347 2928 1069 2612 \nQ 791 2297 791 1659 \nz\n\" transform=\"scale(0.015625)\"/>\n        <path id=\"ArialMT-76\" d=\"M 1344 0 \nL 81 3319 \nL 675 3319 \nL 1388 1331 \nQ 1503 1009 1600 663 \nQ 1675 925 1809 1294 \nL 2547 3319 \nL 3125 3319 \nL 1869 0 \nL 1344 0 \nz\n\" transform=\"scale(0.015625)\"/>\n        <path id=\"ArialMT-69\" d=\"M 425 3934 \nL 425 4581 \nL 988 4581 \nL 988 3934 \nL 425 3934 \nz\nM 425 0 \nL 425 3319 \nL 988 3319 \nL 988 0 \nL 425 0 \nz\n\" transform=\"scale(0.015625)\"/>\n        <path id=\"ArialMT-65\" d=\"M 2694 1069 \nL 3275 997 \nQ 3138 488 2766 206 \nQ 2394 -75 1816 -75 \nQ 1088 -75 661 373 \nQ 234 822 234 1631 \nQ 234 2469 665 2931 \nQ 1097 3394 1784 3394 \nQ 2450 3394 2872 2941 \nQ 3294 2488 3294 1666 \nQ 3294 1616 3291 1516 \nL 816 1516 \nQ 847 969 1125 678 \nQ 1403 388 1819 388 \nQ 2128 388 2347 550 \nQ 2566 713 2694 1069 \nz\nM 847 1978 \nL 2700 1978 \nQ 2663 2397 2488 2606 \nQ 2219 2931 1791 2931 \nQ 1403 2931 1139 2672 \nQ 875 2413 847 1978 \nz\n\" transform=\"scale(0.015625)\"/>\n       </defs>\n       <use xlink:href=\"#ArialMT-4d\"/>\n       <use xlink:href=\"#ArialMT-6f\" x=\"83.300781\"/>\n       <use xlink:href=\"#ArialMT-76\" x=\"138.916016\"/>\n       <use xlink:href=\"#ArialMT-69\" x=\"188.916016\"/>\n       <use xlink:href=\"#ArialMT-65\" x=\"211.132812\"/>\n      </g>\n     </g>\n    </g>\n    <g id=\"xtick_2\">\n     <g id=\"text_2\">\n      <!-- TV -->\n      <g style=\"fill: #262626\" transform=\"translate(138.394531 290.685594) scale(0.11 -0.11)\">\n       <defs>\n        <path id=\"ArialMT-54\" d=\"M 1659 0 \nL 1659 4041 \nL 150 4041 \nL 150 4581 \nL 3781 4581 \nL 3781 4041 \nL 2266 4041 \nL 2266 0 \nL 1659 0 \nz\n\" transform=\"scale(0.015625)\"/>\n        <path id=\"ArialMT-56\" d=\"M 1803 0 \nL 28 4581 \nL 684 4581 \nL 1875 1253 \nQ 2019 853 2116 503 \nQ 2222 878 2363 1253 \nL 3600 4581 \nL 4219 4581 \nL 2425 0 \nL 1803 0 \nz\n\" transform=\"scale(0.015625)\"/>\n       </defs>\n       <use xlink:href=\"#ArialMT-54\"/>\n       <use xlink:href=\"#ArialMT-56\" x=\"61.083984\"/>\n      </g>\n     </g>\n    </g>\n    <g id=\"xtick_3\">\n     <g id=\"text_3\">\n      <!-- OVA -->\n      <g style=\"fill: #262626\" transform=\"translate(193.732813 290.685594) scale(0.11 -0.11)\">\n       <defs>\n        <path id=\"ArialMT-4f\" d=\"M 309 2231 \nQ 309 3372 921 4017 \nQ 1534 4663 2503 4663 \nQ 3138 4663 3647 4359 \nQ 4156 4056 4423 3514 \nQ 4691 2972 4691 2284 \nQ 4691 1588 4409 1038 \nQ 4128 488 3612 205 \nQ 3097 -78 2500 -78 \nQ 1853 -78 1343 234 \nQ 834 547 571 1087 \nQ 309 1628 309 2231 \nz\nM 934 2222 \nQ 934 1394 1379 917 \nQ 1825 441 2497 441 \nQ 3181 441 3623 922 \nQ 4066 1403 4066 2288 \nQ 4066 2847 3877 3264 \nQ 3688 3681 3323 3911 \nQ 2959 4141 2506 4141 \nQ 1863 4141 1398 3698 \nQ 934 3256 934 2222 \nz\n\" transform=\"scale(0.015625)\"/>\n        <path id=\"ArialMT-41\" d=\"M -9 0 \nL 1750 4581 \nL 2403 4581 \nL 4278 0 \nL 3588 0 \nL 3053 1388 \nL 1138 1388 \nL 634 0 \nL -9 0 \nz\nM 1313 1881 \nL 2866 1881 \nL 2388 3150 \nQ 2169 3728 2063 4100 \nQ 1975 3659 1816 3225 \nL 1313 1881 \nz\n\" transform=\"scale(0.015625)\"/>\n       </defs>\n       <use xlink:href=\"#ArialMT-4f\"/>\n       <use xlink:href=\"#ArialMT-56\" x=\"77.783203\"/>\n       <use xlink:href=\"#ArialMT-41\" x=\"137.107422\"/>\n      </g>\n     </g>\n    </g>\n    <g id=\"xtick_4\">\n     <g id=\"text_4\">\n      <!-- Special -->\n      <g style=\"fill: #262626\" transform=\"translate(246.424219 290.819656) scale(0.11 -0.11)\">\n       <defs>\n        <path id=\"ArialMT-53\" d=\"M 288 1472 \nL 859 1522 \nQ 900 1178 1048 958 \nQ 1197 738 1509 602 \nQ 1822 466 2213 466 \nQ 2559 466 2825 569 \nQ 3091 672 3220 851 \nQ 3350 1031 3350 1244 \nQ 3350 1459 3225 1620 \nQ 3100 1781 2813 1891 \nQ 2628 1963 1997 2114 \nQ 1366 2266 1113 2400 \nQ 784 2572 623 2826 \nQ 463 3081 463 3397 \nQ 463 3744 659 4045 \nQ 856 4347 1234 4503 \nQ 1613 4659 2075 4659 \nQ 2584 4659 2973 4495 \nQ 3363 4331 3572 4012 \nQ 3781 3694 3797 3291 \nL 3216 3247 \nQ 3169 3681 2898 3903 \nQ 2628 4125 2100 4125 \nQ 1550 4125 1298 3923 \nQ 1047 3722 1047 3438 \nQ 1047 3191 1225 3031 \nQ 1400 2872 2139 2705 \nQ 2878 2538 3153 2413 \nQ 3553 2228 3743 1945 \nQ 3934 1663 3934 1294 \nQ 3934 928 3725 604 \nQ 3516 281 3123 101 \nQ 2731 -78 2241 -78 \nQ 1619 -78 1198 103 \nQ 778 284 539 648 \nQ 300 1013 288 1472 \nz\n\" transform=\"scale(0.015625)\"/>\n        <path id=\"ArialMT-70\" d=\"M 422 -1272 \nL 422 3319 \nL 934 3319 \nL 934 2888 \nQ 1116 3141 1344 3267 \nQ 1572 3394 1897 3394 \nQ 2322 3394 2647 3175 \nQ 2972 2956 3137 2557 \nQ 3303 2159 3303 1684 \nQ 3303 1175 3120 767 \nQ 2938 359 2589 142 \nQ 2241 -75 1856 -75 \nQ 1575 -75 1351 44 \nQ 1128 163 984 344 \nL 984 -1272 \nL 422 -1272 \nz\nM 931 1641 \nQ 931 1000 1190 694 \nQ 1450 388 1819 388 \nQ 2194 388 2461 705 \nQ 2728 1022 2728 1688 \nQ 2728 2322 2467 2637 \nQ 2206 2953 1844 2953 \nQ 1484 2953 1207 2617 \nQ 931 2281 931 1641 \nz\n\" transform=\"scale(0.015625)\"/>\n        <path id=\"ArialMT-63\" d=\"M 2588 1216 \nL 3141 1144 \nQ 3050 572 2676 248 \nQ 2303 -75 1759 -75 \nQ 1078 -75 664 370 \nQ 250 816 250 1647 \nQ 250 2184 428 2587 \nQ 606 2991 970 3192 \nQ 1334 3394 1763 3394 \nQ 2303 3394 2647 3120 \nQ 2991 2847 3088 2344 \nL 2541 2259 \nQ 2463 2594 2264 2762 \nQ 2066 2931 1784 2931 \nQ 1359 2931 1093 2626 \nQ 828 2322 828 1663 \nQ 828 994 1084 691 \nQ 1341 388 1753 388 \nQ 2084 388 2306 591 \nQ 2528 794 2588 1216 \nz\n\" transform=\"scale(0.015625)\"/>\n        <path id=\"ArialMT-61\" d=\"M 2588 409 \nQ 2275 144 1986 34 \nQ 1697 -75 1366 -75 \nQ 819 -75 525 192 \nQ 231 459 231 875 \nQ 231 1119 342 1320 \nQ 453 1522 633 1644 \nQ 813 1766 1038 1828 \nQ 1203 1872 1538 1913 \nQ 2219 1994 2541 2106 \nQ 2544 2222 2544 2253 \nQ 2544 2597 2384 2738 \nQ 2169 2928 1744 2928 \nQ 1347 2928 1158 2789 \nQ 969 2650 878 2297 \nL 328 2372 \nQ 403 2725 575 2942 \nQ 747 3159 1072 3276 \nQ 1397 3394 1825 3394 \nQ 2250 3394 2515 3294 \nQ 2781 3194 2906 3042 \nQ 3031 2891 3081 2659 \nQ 3109 2516 3109 2141 \nL 3109 1391 \nQ 3109 606 3145 398 \nQ 3181 191 3288 0 \nL 2700 0 \nQ 2613 175 2588 409 \nz\nM 2541 1666 \nQ 2234 1541 1622 1453 \nQ 1275 1403 1131 1340 \nQ 988 1278 909 1158 \nQ 831 1038 831 891 \nQ 831 666 1001 516 \nQ 1172 366 1500 366 \nQ 1825 366 2078 508 \nQ 2331 650 2450 897 \nQ 2541 1088 2541 1459 \nL 2541 1666 \nz\n\" transform=\"scale(0.015625)\"/>\n        <path id=\"ArialMT-6c\" d=\"M 409 0 \nL 409 4581 \nL 972 4581 \nL 972 0 \nL 409 0 \nz\n\" transform=\"scale(0.015625)\"/>\n       </defs>\n       <use xlink:href=\"#ArialMT-53\"/>\n       <use xlink:href=\"#ArialMT-70\" x=\"66.699219\"/>\n       <use xlink:href=\"#ArialMT-65\" x=\"122.314453\"/>\n       <use xlink:href=\"#ArialMT-63\" x=\"177.929688\"/>\n       <use xlink:href=\"#ArialMT-69\" x=\"227.929688\"/>\n       <use xlink:href=\"#ArialMT-61\" x=\"250.146484\"/>\n       <use xlink:href=\"#ArialMT-6c\" x=\"305.761719\"/>\n      </g>\n     </g>\n    </g>\n    <g id=\"xtick_5\">\n     <g id=\"text_5\">\n      <!-- Music -->\n      <g style=\"fill: #262626\" transform=\"translate(309.620625 290.685594) scale(0.11 -0.11)\">\n       <defs>\n        <path id=\"ArialMT-75\" d=\"M 2597 0 \nL 2597 488 \nQ 2209 -75 1544 -75 \nQ 1250 -75 995 37 \nQ 741 150 617 320 \nQ 494 491 444 738 \nQ 409 903 409 1263 \nL 409 3319 \nL 972 3319 \nL 972 1478 \nQ 972 1038 1006 884 \nQ 1059 663 1231 536 \nQ 1403 409 1656 409 \nQ 1909 409 2131 539 \nQ 2353 669 2445 892 \nQ 2538 1116 2538 1541 \nL 2538 3319 \nL 3100 3319 \nL 3100 0 \nL 2597 0 \nz\n\" transform=\"scale(0.015625)\"/>\n        <path id=\"ArialMT-73\" d=\"M 197 991 \nL 753 1078 \nQ 800 744 1014 566 \nQ 1228 388 1613 388 \nQ 2000 388 2187 545 \nQ 2375 703 2375 916 \nQ 2375 1106 2209 1216 \nQ 2094 1291 1634 1406 \nQ 1016 1563 777 1677 \nQ 538 1791 414 1992 \nQ 291 2194 291 2438 \nQ 291 2659 392 2848 \nQ 494 3038 669 3163 \nQ 800 3259 1026 3326 \nQ 1253 3394 1513 3394 \nQ 1903 3394 2198 3281 \nQ 2494 3169 2634 2976 \nQ 2775 2784 2828 2463 \nL 2278 2388 \nQ 2241 2644 2061 2787 \nQ 1881 2931 1553 2931 \nQ 1166 2931 1000 2803 \nQ 834 2675 834 2503 \nQ 834 2394 903 2306 \nQ 972 2216 1119 2156 \nQ 1203 2125 1616 2013 \nQ 2213 1853 2448 1751 \nQ 2684 1650 2818 1456 \nQ 2953 1263 2953 975 \nQ 2953 694 2789 445 \nQ 2625 197 2315 61 \nQ 2006 -75 1616 -75 \nQ 969 -75 630 194 \nQ 291 463 197 991 \nz\n\" transform=\"scale(0.015625)\"/>\n       </defs>\n       <use xlink:href=\"#ArialMT-4d\"/>\n       <use xlink:href=\"#ArialMT-75\" x=\"83.300781\"/>\n       <use xlink:href=\"#ArialMT-73\" x=\"138.916016\"/>\n       <use xlink:href=\"#ArialMT-69\" x=\"188.916016\"/>\n       <use xlink:href=\"#ArialMT-63\" x=\"211.132812\"/>\n      </g>\n     </g>\n    </g>\n    <g id=\"xtick_6\">\n     <g id=\"text_6\">\n      <!-- ONA -->\n      <g style=\"fill: #262626\" transform=\"translate(371.583828 290.685594) scale(0.11 -0.11)\">\n       <defs>\n        <path id=\"ArialMT-4e\" d=\"M 488 0 \nL 488 4581 \nL 1109 4581 \nL 3516 984 \nL 3516 4581 \nL 4097 4581 \nL 4097 0 \nL 3475 0 \nL 1069 3600 \nL 1069 0 \nL 488 0 \nz\n\" transform=\"scale(0.015625)\"/>\n       </defs>\n       <use xlink:href=\"#ArialMT-4f\"/>\n       <use xlink:href=\"#ArialMT-4e\" x=\"77.783203\"/>\n       <use xlink:href=\"#ArialMT-41\" x=\"150\"/>\n      </g>\n     </g>\n    </g>\n    <g id=\"text_7\">\n     <!-- type -->\n     <g style=\"fill: #262626\" transform=\"translate(223.3625 305.454656) scale(0.12 -0.12)\">\n      <defs>\n       <path id=\"ArialMT-74\" d=\"M 1650 503 \nL 1731 6 \nQ 1494 -44 1306 -44 \nQ 1000 -44 831 53 \nQ 663 150 594 308 \nQ 525 466 525 972 \nL 525 2881 \nL 113 2881 \nL 113 3319 \nL 525 3319 \nL 525 4141 \nL 1084 4478 \nL 1084 3319 \nL 1650 3319 \nL 1650 2881 \nL 1084 2881 \nL 1084 941 \nQ 1084 700 1114 631 \nQ 1144 563 1211 522 \nQ 1278 481 1403 481 \nQ 1497 481 1650 503 \nz\n\" transform=\"scale(0.015625)\"/>\n       <path id=\"ArialMT-79\" d=\"M 397 -1278 \nL 334 -750 \nQ 519 -800 656 -800 \nQ 844 -800 956 -737 \nQ 1069 -675 1141 -563 \nQ 1194 -478 1313 -144 \nQ 1328 -97 1363 -6 \nL 103 3319 \nL 709 3319 \nL 1400 1397 \nQ 1534 1031 1641 628 \nQ 1738 1016 1872 1384 \nL 2581 3319 \nL 3144 3319 \nL 1881 -56 \nQ 1678 -603 1566 -809 \nQ 1416 -1088 1222 -1217 \nQ 1028 -1347 759 -1347 \nQ 597 -1347 397 -1278 \nz\n\" transform=\"scale(0.015625)\"/>\n      </defs>\n      <use xlink:href=\"#ArialMT-74\"/>\n      <use xlink:href=\"#ArialMT-79\" x=\"27.783203\"/>\n      <use xlink:href=\"#ArialMT-70\" x=\"77.783203\"/>\n      <use xlink:href=\"#ArialMT-65\" x=\"133.398438\"/>\n     </g>\n    </g>\n   </g>\n   <g id=\"matplotlib.axis_2\">\n    <g id=\"ytick_1\">\n     <g id=\"line2d_1\">\n      <path d=\"M 56.1425 273.312 \nL 413.2625 273.312 \n\" clip-path=\"url(#pccb1db2175)\" style=\"fill: none; stroke: #ffffff; stroke-linecap: round\"/>\n     </g>\n     <g id=\"text_8\">\n      <!-- 0 -->\n      <g style=\"fill: #262626\" transform=\"translate(40.525469 277.248797) scale(0.11 -0.11)\">\n       <defs>\n        <path id=\"ArialMT-30\" d=\"M 266 2259 \nQ 266 3072 433 3567 \nQ 600 4063 929 4331 \nQ 1259 4600 1759 4600 \nQ 2128 4600 2406 4451 \nQ 2684 4303 2865 4023 \nQ 3047 3744 3150 3342 \nQ 3253 2941 3253 2259 \nQ 3253 1453 3087 958 \nQ 2922 463 2592 192 \nQ 2263 -78 1759 -78 \nQ 1097 -78 719 397 \nQ 266 969 266 2259 \nz\nM 844 2259 \nQ 844 1131 1108 757 \nQ 1372 384 1759 384 \nQ 2147 384 2411 759 \nQ 2675 1134 2675 2259 \nQ 2675 3391 2411 3762 \nQ 2147 4134 1753 4134 \nQ 1366 4134 1134 3806 \nQ 844 3388 844 2259 \nz\n\" transform=\"scale(0.015625)\"/>\n       </defs>\n       <use xlink:href=\"#ArialMT-30\"/>\n      </g>\n     </g>\n    </g>\n    <g id=\"ytick_2\">\n     <g id=\"line2d_2\">\n      <path d=\"M 56.1425 239.850157 \nL 413.2625 239.850157 \n\" clip-path=\"url(#pccb1db2175)\" style=\"fill: none; stroke: #ffffff; stroke-linecap: round\"/>\n     </g>\n     <g id=\"text_9\">\n      <!-- 500 -->\n      <g style=\"fill: #262626\" transform=\"translate(28.291406 243.786954) scale(0.11 -0.11)\">\n       <defs>\n        <path id=\"ArialMT-35\" d=\"M 266 1200 \nL 856 1250 \nQ 922 819 1161 601 \nQ 1400 384 1738 384 \nQ 2144 384 2425 690 \nQ 2706 997 2706 1503 \nQ 2706 1984 2436 2262 \nQ 2166 2541 1728 2541 \nQ 1456 2541 1237 2417 \nQ 1019 2294 894 2097 \nL 366 2166 \nL 809 4519 \nL 3088 4519 \nL 3088 3981 \nL 1259 3981 \nL 1013 2750 \nQ 1425 3038 1878 3038 \nQ 2478 3038 2890 2622 \nQ 3303 2206 3303 1553 \nQ 3303 931 2941 478 \nQ 2500 -78 1738 -78 \nQ 1113 -78 717 272 \nQ 322 622 266 1200 \nz\n\" transform=\"scale(0.015625)\"/>\n       </defs>\n       <use xlink:href=\"#ArialMT-35\"/>\n       <use xlink:href=\"#ArialMT-30\" x=\"55.615234\"/>\n       <use xlink:href=\"#ArialMT-30\" x=\"111.230469\"/>\n      </g>\n     </g>\n    </g>\n    <g id=\"ytick_3\">\n     <g id=\"line2d_3\">\n      <path d=\"M 56.1425 206.388314 \nL 413.2625 206.388314 \n\" clip-path=\"url(#pccb1db2175)\" style=\"fill: none; stroke: #ffffff; stroke-linecap: round\"/>\n     </g>\n     <g id=\"text_10\">\n      <!-- 1000 -->\n      <g style=\"fill: #262626\" transform=\"translate(22.174375 210.325111) scale(0.11 -0.11)\">\n       <defs>\n        <path id=\"ArialMT-31\" d=\"M 2384 0 \nL 1822 0 \nL 1822 3584 \nQ 1619 3391 1289 3197 \nQ 959 3003 697 2906 \nL 697 3450 \nQ 1169 3672 1522 3987 \nQ 1875 4303 2022 4600 \nL 2384 4600 \nL 2384 0 \nz\n\" transform=\"scale(0.015625)\"/>\n       </defs>\n       <use xlink:href=\"#ArialMT-31\"/>\n       <use xlink:href=\"#ArialMT-30\" x=\"55.615234\"/>\n       <use xlink:href=\"#ArialMT-30\" x=\"111.230469\"/>\n       <use xlink:href=\"#ArialMT-30\" x=\"166.845703\"/>\n      </g>\n     </g>\n    </g>\n    <g id=\"ytick_4\">\n     <g id=\"line2d_4\">\n      <path d=\"M 56.1425 172.926471 \nL 413.2625 172.926471 \n\" clip-path=\"url(#pccb1db2175)\" style=\"fill: none; stroke: #ffffff; stroke-linecap: round\"/>\n     </g>\n     <g id=\"text_11\">\n      <!-- 1500 -->\n      <g style=\"fill: #262626\" transform=\"translate(22.174375 176.863267) scale(0.11 -0.11)\">\n       <use xlink:href=\"#ArialMT-31\"/>\n       <use xlink:href=\"#ArialMT-35\" x=\"55.615234\"/>\n       <use xlink:href=\"#ArialMT-30\" x=\"111.230469\"/>\n       <use xlink:href=\"#ArialMT-30\" x=\"166.845703\"/>\n      </g>\n     </g>\n    </g>\n    <g id=\"ytick_5\">\n     <g id=\"line2d_5\">\n      <path d=\"M 56.1425 139.464627 \nL 413.2625 139.464627 \n\" clip-path=\"url(#pccb1db2175)\" style=\"fill: none; stroke: #ffffff; stroke-linecap: round\"/>\n     </g>\n     <g id=\"text_12\">\n      <!-- 2000 -->\n      <g style=\"fill: #262626\" transform=\"translate(22.174375 143.401424) scale(0.11 -0.11)\">\n       <defs>\n        <path id=\"ArialMT-32\" d=\"M 3222 541 \nL 3222 0 \nL 194 0 \nQ 188 203 259 391 \nQ 375 700 629 1000 \nQ 884 1300 1366 1694 \nQ 2113 2306 2375 2664 \nQ 2638 3022 2638 3341 \nQ 2638 3675 2398 3904 \nQ 2159 4134 1775 4134 \nQ 1369 4134 1125 3890 \nQ 881 3647 878 3216 \nL 300 3275 \nQ 359 3922 746 4261 \nQ 1134 4600 1788 4600 \nQ 2447 4600 2831 4234 \nQ 3216 3869 3216 3328 \nQ 3216 3053 3103 2787 \nQ 2991 2522 2730 2228 \nQ 2469 1934 1863 1422 \nQ 1356 997 1212 845 \nQ 1069 694 975 541 \nL 3222 541 \nz\n\" transform=\"scale(0.015625)\"/>\n       </defs>\n       <use xlink:href=\"#ArialMT-32\"/>\n       <use xlink:href=\"#ArialMT-30\" x=\"55.615234\"/>\n       <use xlink:href=\"#ArialMT-30\" x=\"111.230469\"/>\n       <use xlink:href=\"#ArialMT-30\" x=\"166.845703\"/>\n      </g>\n     </g>\n    </g>\n    <g id=\"ytick_6\">\n     <g id=\"line2d_6\">\n      <path d=\"M 56.1425 106.002784 \nL 413.2625 106.002784 \n\" clip-path=\"url(#pccb1db2175)\" style=\"fill: none; stroke: #ffffff; stroke-linecap: round\"/>\n     </g>\n     <g id=\"text_13\">\n      <!-- 2500 -->\n      <g style=\"fill: #262626\" transform=\"translate(22.174375 109.939581) scale(0.11 -0.11)\">\n       <use xlink:href=\"#ArialMT-32\"/>\n       <use xlink:href=\"#ArialMT-35\" x=\"55.615234\"/>\n       <use xlink:href=\"#ArialMT-30\" x=\"111.230469\"/>\n       <use xlink:href=\"#ArialMT-30\" x=\"166.845703\"/>\n      </g>\n     </g>\n    </g>\n    <g id=\"ytick_7\">\n     <g id=\"line2d_7\">\n      <path d=\"M 56.1425 72.540941 \nL 413.2625 72.540941 \n\" clip-path=\"url(#pccb1db2175)\" style=\"fill: none; stroke: #ffffff; stroke-linecap: round\"/>\n     </g>\n     <g id=\"text_14\">\n      <!-- 3000 -->\n      <g style=\"fill: #262626\" transform=\"translate(22.174375 76.477738) scale(0.11 -0.11)\">\n       <defs>\n        <path id=\"ArialMT-33\" d=\"M 269 1209 \nL 831 1284 \nQ 928 806 1161 595 \nQ 1394 384 1728 384 \nQ 2125 384 2398 659 \nQ 2672 934 2672 1341 \nQ 2672 1728 2419 1979 \nQ 2166 2231 1775 2231 \nQ 1616 2231 1378 2169 \nL 1441 2663 \nQ 1497 2656 1531 2656 \nQ 1891 2656 2178 2843 \nQ 2466 3031 2466 3422 \nQ 2466 3731 2256 3934 \nQ 2047 4138 1716 4138 \nQ 1388 4138 1169 3931 \nQ 950 3725 888 3313 \nL 325 3413 \nQ 428 3978 793 4289 \nQ 1159 4600 1703 4600 \nQ 2078 4600 2393 4439 \nQ 2709 4278 2876 4000 \nQ 3044 3722 3044 3409 \nQ 3044 3113 2884 2869 \nQ 2725 2625 2413 2481 \nQ 2819 2388 3044 2092 \nQ 3269 1797 3269 1353 \nQ 3269 753 2831 336 \nQ 2394 -81 1725 -81 \nQ 1122 -81 723 278 \nQ 325 638 269 1209 \nz\n\" transform=\"scale(0.015625)\"/>\n       </defs>\n       <use xlink:href=\"#ArialMT-33\"/>\n       <use xlink:href=\"#ArialMT-30\" x=\"55.615234\"/>\n       <use xlink:href=\"#ArialMT-30\" x=\"111.230469\"/>\n       <use xlink:href=\"#ArialMT-30\" x=\"166.845703\"/>\n      </g>\n     </g>\n    </g>\n    <g id=\"ytick_8\">\n     <g id=\"line2d_8\">\n      <path d=\"M 56.1425 39.079098 \nL 413.2625 39.079098 \n\" clip-path=\"url(#pccb1db2175)\" style=\"fill: none; stroke: #ffffff; stroke-linecap: round\"/>\n     </g>\n     <g id=\"text_15\">\n      <!-- 3500 -->\n      <g style=\"fill: #262626\" transform=\"translate(22.174375 43.015895) scale(0.11 -0.11)\">\n       <use xlink:href=\"#ArialMT-33\"/>\n       <use xlink:href=\"#ArialMT-35\" x=\"55.615234\"/>\n       <use xlink:href=\"#ArialMT-30\" x=\"111.230469\"/>\n       <use xlink:href=\"#ArialMT-30\" x=\"166.845703\"/>\n      </g>\n     </g>\n    </g>\n    <g id=\"text_16\">\n     <!-- count -->\n     <g style=\"fill: #262626\" transform=\"translate(15.789375 154.932562) rotate(-90) scale(0.12 -0.12)\">\n      <defs>\n       <path id=\"ArialMT-6e\" d=\"M 422 0 \nL 422 3319 \nL 928 3319 \nL 928 2847 \nQ 1294 3394 1984 3394 \nQ 2284 3394 2536 3286 \nQ 2788 3178 2913 3003 \nQ 3038 2828 3088 2588 \nQ 3119 2431 3119 2041 \nL 3119 0 \nL 2556 0 \nL 2556 2019 \nQ 2556 2363 2490 2533 \nQ 2425 2703 2258 2804 \nQ 2091 2906 1866 2906 \nQ 1506 2906 1245 2678 \nQ 984 2450 984 1813 \nL 984 0 \nL 422 0 \nz\n\" transform=\"scale(0.015625)\"/>\n      </defs>\n      <use xlink:href=\"#ArialMT-63\"/>\n      <use xlink:href=\"#ArialMT-6f\" x=\"50\"/>\n      <use xlink:href=\"#ArialMT-75\" x=\"105.615234\"/>\n      <use xlink:href=\"#ArialMT-6e\" x=\"161.230469\"/>\n      <use xlink:href=\"#ArialMT-74\" x=\"216.845703\"/>\n     </g>\n    </g>\n   </g>\n   <g id=\"patch_3\">\n    <path d=\"M 62.0945 273.312 \nL 109.7105 273.312 \nL 109.7105 116.175185 \nL 62.0945 116.175185 \nz\n\" clip-path=\"url(#pccb1db2175)\" style=\"fill: #5875a4; stroke: #ffffff; stroke-linejoin: miter\"/>\n   </g>\n   <g id=\"patch_4\">\n    <path d=\"M 121.6145 273.312 \nL 169.2305 273.312 \nL 169.2305 19.872 \nL 121.6145 19.872 \nz\n\" clip-path=\"url(#pccb1db2175)\" style=\"fill: #cc8963; stroke: #ffffff; stroke-linejoin: miter\"/>\n   </g>\n   <g id=\"patch_5\">\n    <path d=\"M 181.1345 273.312 \nL 228.7505 273.312 \nL 228.7505 51.727675 \nL 181.1345 51.727675 \nz\n\" clip-path=\"url(#pccb1db2175)\" style=\"fill: #5f9e6e; stroke: #ffffff; stroke-linejoin: miter\"/>\n   </g>\n   <g id=\"patch_6\">\n    <path d=\"M 240.6545 273.312 \nL 288.2705 273.312 \nL 288.2705 161.147902 \nL 240.6545 161.147902 \nz\n\" clip-path=\"url(#pccb1db2175)\" style=\"fill: #b55d60; stroke: #ffffff; stroke-linejoin: miter\"/>\n   </g>\n   <g id=\"patch_7\">\n    <path d=\"M 300.1745 273.312 \nL 347.7905 273.312 \nL 347.7905 240.653241 \nL 300.1745 240.653241 \nz\n\" clip-path=\"url(#pccb1db2175)\" style=\"fill: #857aab; stroke: #ffffff; stroke-linejoin: miter\"/>\n   </g>\n   <g id=\"patch_8\">\n    <path d=\"M 359.6945 273.312 \nL 407.3105 273.312 \nL 407.3105 229.209291 \nL 359.6945 229.209291 \nz\n\" clip-path=\"url(#pccb1db2175)\" style=\"fill: #8d7866; stroke: #ffffff; stroke-linejoin: miter\"/>\n   </g>\n   <g id=\"patch_9\">\n    <path d=\"M 56.1425 273.312 \nL 56.1425 7.2 \n\" style=\"fill: none; stroke: #ffffff; stroke-width: 1.25; stroke-linejoin: miter; stroke-linecap: square\"/>\n   </g>\n   <g id=\"patch_10\">\n    <path d=\"M 413.2625 273.312 \nL 413.2625 7.2 \n\" style=\"fill: none; stroke: #ffffff; stroke-width: 1.25; stroke-linejoin: miter; stroke-linecap: square\"/>\n   </g>\n   <g id=\"patch_11\">\n    <path d=\"M 56.1425 273.312 \nL 413.2625 273.312 \n\" style=\"fill: none; stroke: #ffffff; stroke-width: 1.25; stroke-linejoin: miter; stroke-linecap: square\"/>\n   </g>\n   <g id=\"patch_12\">\n    <path d=\"M 56.1425 7.2 \nL 413.2625 7.2 \n\" style=\"fill: none; stroke: #ffffff; stroke-width: 1.25; stroke-linejoin: miter; stroke-linecap: square\"/>\n   </g>\n  </g>\n </g>\n <defs>\n  <clipPath id=\"pccb1db2175\">\n   <rect x=\"56.1425\" y=\"7.2\" width=\"357.12\" height=\"266.112\"/>\n  </clipPath>\n </defs>\n</svg>\n",
      "text/plain": [
       "<Figure size 640x480 with 1 Axes>"
      ]
     },
     "metadata": {},
     "output_type": "display_data"
    }
   ],
   "source": [
    "# visualizing is always better\n",
    "# as this is a categorical variable I'm using bar plot\n",
    "# which is implemented as countplot in seaborn\n",
    "sns.countplot(x=anime_df['type'])\n",
    "plt.show()"
   ]
  },
  {
   "cell_type": "markdown",
   "metadata": {},
   "source": [
    "#### Episodes"
   ]
  },
  {
   "cell_type": "code",
   "execution_count": 21,
   "metadata": {},
   "outputs": [
    {
     "data": {
      "text/plain": [
       "count    11954.000000\n",
       "mean        12.382550\n",
       "std         46.865352\n",
       "min          1.000000\n",
       "25%          1.000000\n",
       "50%          2.000000\n",
       "75%         12.000000\n",
       "max       1818.000000\n",
       "Name: episodes, dtype: float64"
      ]
     },
     "execution_count": 21,
     "metadata": {},
     "output_type": "execute_result"
    }
   ],
   "source": [
    "anime_df['episodes'].describe()"
   ]
  },
  {
   "cell_type": "markdown",
   "metadata": {},
   "source": [
    "- its interesting that at 75th percentile the number of episode is 12 which is approximately same as the mean of this distribution!"
   ]
  },
  {
   "cell_type": "markdown",
   "metadata": {},
   "source": [
    "Lets plot the distribution\n",
    "- As this distribution is heavily skewed, Its better to visualize it in the log scale"
   ]
  },
  {
   "cell_type": "code",
   "execution_count": 22,
   "metadata": {},
   "outputs": [
    {
     "data": {
      "image/svg+xml": "<?xml version=\"1.0\" encoding=\"utf-8\" standalone=\"no\"?>\n<!DOCTYPE svg PUBLIC \"-//W3C//DTD SVG 1.1//EN\"\n  \"http://www.w3.org/Graphics/SVG/1.1/DTD/svg11.dtd\">\n<svg xmlns:xlink=\"http://www.w3.org/1999/xlink\" width=\"420.4625pt\" height=\"318.516375pt\" viewBox=\"0 0 420.4625 318.516375\" xmlns=\"http://www.w3.org/2000/svg\" version=\"1.1\">\n <metadata>\n  <rdf:RDF xmlns:dc=\"http://purl.org/dc/elements/1.1/\" xmlns:cc=\"http://creativecommons.org/ns#\" xmlns:rdf=\"http://www.w3.org/1999/02/22-rdf-syntax-ns#\">\n   <cc:Work>\n    <dc:type rdf:resource=\"http://purl.org/dc/dcmitype/StillImage\"/>\n    <dc:date>2022-12-02T14:53:40.768557</dc:date>\n    <dc:format>image/svg+xml</dc:format>\n    <dc:creator>\n     <cc:Agent>\n      <dc:title>Matplotlib v3.6.2, https://matplotlib.org/</dc:title>\n     </cc:Agent>\n    </dc:creator>\n   </cc:Work>\n  </rdf:RDF>\n </metadata>\n <defs>\n  <style type=\"text/css\">*{stroke-linejoin: round; stroke-linecap: butt}</style>\n </defs>\n <g id=\"figure_1\">\n  <g id=\"patch_1\">\n   <path d=\"M 0 318.516375 \nL 420.4625 318.516375 \nL 420.4625 0 \nL 0 0 \nz\n\" style=\"fill: #ffffff\"/>\n  </g>\n  <g id=\"axes_1\">\n   <g id=\"patch_2\">\n    <path d=\"M 56.1425 273.312 \nL 413.2625 273.312 \nL 413.2625 7.2 \nL 56.1425 7.2 \nz\n\" style=\"fill: #eaeaf2\"/>\n   </g>\n   <g id=\"matplotlib.axis_1\">\n    <g id=\"xtick_1\">\n     <g id=\"text_1\">\n      <!-- $\\mathdefault{10^{0}}$ -->\n      <g style=\"fill: #262626\" transform=\"translate(63.740227 294.15575) scale(0.11 -0.11)\">\n       <defs>\n        <path id=\"ArialMT-31\" d=\"M 2384 0 \nL 1822 0 \nL 1822 3584 \nQ 1619 3391 1289 3197 \nQ 959 3003 697 2906 \nL 697 3450 \nQ 1169 3672 1522 3987 \nQ 1875 4303 2022 4600 \nL 2384 4600 \nL 2384 0 \nz\n\" transform=\"scale(0.015625)\"/>\n        <path id=\"ArialMT-30\" d=\"M 266 2259 \nQ 266 3072 433 3567 \nQ 600 4063 929 4331 \nQ 1259 4600 1759 4600 \nQ 2128 4600 2406 4451 \nQ 2684 4303 2865 4023 \nQ 3047 3744 3150 3342 \nQ 3253 2941 3253 2259 \nQ 3253 1453 3087 958 \nQ 2922 463 2592 192 \nQ 2263 -78 1759 -78 \nQ 1097 -78 719 397 \nQ 266 969 266 2259 \nz\nM 844 2259 \nQ 844 1131 1108 757 \nQ 1372 384 1759 384 \nQ 2147 384 2411 759 \nQ 2675 1134 2675 2259 \nQ 2675 3391 2411 3762 \nQ 2147 4134 1753 4134 \nQ 1366 4134 1134 3806 \nQ 844 3388 844 2259 \nz\n\" transform=\"scale(0.015625)\"/>\n       </defs>\n       <use xlink:href=\"#ArialMT-31\" transform=\"translate(0 0.99375)\"/>\n       <use xlink:href=\"#ArialMT-30\" transform=\"translate(55.615234 0.99375)\"/>\n       <use xlink:href=\"#ArialMT-30\" transform=\"translate(112.972813 70.6875) scale(0.7)\"/>\n      </g>\n     </g>\n    </g>\n    <g id=\"xtick_2\">\n     <g id=\"text_2\">\n      <!-- $\\mathdefault{10^{1}}$ -->\n      <g style=\"fill: #262626\" transform=\"translate(163.339919 294.15575) scale(0.11 -0.11)\">\n       <use xlink:href=\"#ArialMT-31\" transform=\"translate(0 0.99375)\"/>\n       <use xlink:href=\"#ArialMT-30\" transform=\"translate(55.615234 0.99375)\"/>\n       <use xlink:href=\"#ArialMT-31\" transform=\"translate(112.972813 70.6875) scale(0.7)\"/>\n      </g>\n     </g>\n    </g>\n    <g id=\"xtick_3\">\n     <g id=\"text_3\">\n      <!-- $\\mathdefault{10^{2}}$ -->\n      <g style=\"fill: #262626\" transform=\"translate(262.939611 294.15575) scale(0.11 -0.11)\">\n       <defs>\n        <path id=\"ArialMT-32\" d=\"M 3222 541 \nL 3222 0 \nL 194 0 \nQ 188 203 259 391 \nQ 375 700 629 1000 \nQ 884 1300 1366 1694 \nQ 2113 2306 2375 2664 \nQ 2638 3022 2638 3341 \nQ 2638 3675 2398 3904 \nQ 2159 4134 1775 4134 \nQ 1369 4134 1125 3890 \nQ 881 3647 878 3216 \nL 300 3275 \nQ 359 3922 746 4261 \nQ 1134 4600 1788 4600 \nQ 2447 4600 2831 4234 \nQ 3216 3869 3216 3328 \nQ 3216 3053 3103 2787 \nQ 2991 2522 2730 2228 \nQ 2469 1934 1863 1422 \nQ 1356 997 1212 845 \nQ 1069 694 975 541 \nL 3222 541 \nz\n\" transform=\"scale(0.015625)\"/>\n       </defs>\n       <use xlink:href=\"#ArialMT-31\" transform=\"translate(0 0.99375)\"/>\n       <use xlink:href=\"#ArialMT-30\" transform=\"translate(55.615234 0.99375)\"/>\n       <use xlink:href=\"#ArialMT-32\" transform=\"translate(112.972813 70.6875) scale(0.7)\"/>\n      </g>\n     </g>\n    </g>\n    <g id=\"xtick_4\">\n     <g id=\"text_4\">\n      <!-- $\\mathdefault{10^{3}}$ -->\n      <g style=\"fill: #262626\" transform=\"translate(362.539302 294.15575) scale(0.11 -0.11)\">\n       <defs>\n        <path id=\"ArialMT-33\" d=\"M 269 1209 \nL 831 1284 \nQ 928 806 1161 595 \nQ 1394 384 1728 384 \nQ 2125 384 2398 659 \nQ 2672 934 2672 1341 \nQ 2672 1728 2419 1979 \nQ 2166 2231 1775 2231 \nQ 1616 2231 1378 2169 \nL 1441 2663 \nQ 1497 2656 1531 2656 \nQ 1891 2656 2178 2843 \nQ 2466 3031 2466 3422 \nQ 2466 3731 2256 3934 \nQ 2047 4138 1716 4138 \nQ 1388 4138 1169 3931 \nQ 950 3725 888 3313 \nL 325 3413 \nQ 428 3978 793 4289 \nQ 1159 4600 1703 4600 \nQ 2078 4600 2393 4439 \nQ 2709 4278 2876 4000 \nQ 3044 3722 3044 3409 \nQ 3044 3113 2884 2869 \nQ 2725 2625 2413 2481 \nQ 2819 2388 3044 2092 \nQ 3269 1797 3269 1353 \nQ 3269 753 2831 336 \nQ 2394 -81 1725 -81 \nQ 1122 -81 723 278 \nQ 325 638 269 1209 \nz\n\" transform=\"scale(0.015625)\"/>\n       </defs>\n       <use xlink:href=\"#ArialMT-31\" transform=\"translate(0 0.99375)\"/>\n       <use xlink:href=\"#ArialMT-30\" transform=\"translate(55.615234 0.99375)\"/>\n       <use xlink:href=\"#ArialMT-33\" transform=\"translate(112.972813 70.6875) scale(0.7)\"/>\n      </g>\n     </g>\n    </g>\n    <g id=\"xtick_5\"/>\n    <g id=\"xtick_6\"/>\n    <g id=\"xtick_7\"/>\n    <g id=\"xtick_8\"/>\n    <g id=\"xtick_9\"/>\n    <g id=\"xtick_10\"/>\n    <g id=\"xtick_11\"/>\n    <g id=\"xtick_12\"/>\n    <g id=\"xtick_13\"/>\n    <g id=\"xtick_14\"/>\n    <g id=\"xtick_15\"/>\n    <g id=\"xtick_16\"/>\n    <g id=\"xtick_17\"/>\n    <g id=\"xtick_18\"/>\n    <g id=\"xtick_19\"/>\n    <g id=\"xtick_20\"/>\n    <g id=\"xtick_21\"/>\n    <g id=\"xtick_22\"/>\n    <g id=\"xtick_23\"/>\n    <g id=\"xtick_24\"/>\n    <g id=\"xtick_25\"/>\n    <g id=\"xtick_26\"/>\n    <g id=\"xtick_27\"/>\n    <g id=\"xtick_28\"/>\n    <g id=\"xtick_29\"/>\n    <g id=\"xtick_30\"/>\n    <g id=\"xtick_31\"/>\n    <g id=\"xtick_32\"/>\n    <g id=\"text_5\">\n     <!-- episodes -->\n     <g style=\"fill: #262626\" transform=\"translate(210.686563 308.931375) scale(0.12 -0.12)\">\n      <defs>\n       <path id=\"ArialMT-65\" d=\"M 2694 1069 \nL 3275 997 \nQ 3138 488 2766 206 \nQ 2394 -75 1816 -75 \nQ 1088 -75 661 373 \nQ 234 822 234 1631 \nQ 234 2469 665 2931 \nQ 1097 3394 1784 3394 \nQ 2450 3394 2872 2941 \nQ 3294 2488 3294 1666 \nQ 3294 1616 3291 1516 \nL 816 1516 \nQ 847 969 1125 678 \nQ 1403 388 1819 388 \nQ 2128 388 2347 550 \nQ 2566 713 2694 1069 \nz\nM 847 1978 \nL 2700 1978 \nQ 2663 2397 2488 2606 \nQ 2219 2931 1791 2931 \nQ 1403 2931 1139 2672 \nQ 875 2413 847 1978 \nz\n\" transform=\"scale(0.015625)\"/>\n       <path id=\"ArialMT-70\" d=\"M 422 -1272 \nL 422 3319 \nL 934 3319 \nL 934 2888 \nQ 1116 3141 1344 3267 \nQ 1572 3394 1897 3394 \nQ 2322 3394 2647 3175 \nQ 2972 2956 3137 2557 \nQ 3303 2159 3303 1684 \nQ 3303 1175 3120 767 \nQ 2938 359 2589 142 \nQ 2241 -75 1856 -75 \nQ 1575 -75 1351 44 \nQ 1128 163 984 344 \nL 984 -1272 \nL 422 -1272 \nz\nM 931 1641 \nQ 931 1000 1190 694 \nQ 1450 388 1819 388 \nQ 2194 388 2461 705 \nQ 2728 1022 2728 1688 \nQ 2728 2322 2467 2637 \nQ 2206 2953 1844 2953 \nQ 1484 2953 1207 2617 \nQ 931 2281 931 1641 \nz\n\" transform=\"scale(0.015625)\"/>\n       <path id=\"ArialMT-69\" d=\"M 425 3934 \nL 425 4581 \nL 988 4581 \nL 988 3934 \nL 425 3934 \nz\nM 425 0 \nL 425 3319 \nL 988 3319 \nL 988 0 \nL 425 0 \nz\n\" transform=\"scale(0.015625)\"/>\n       <path id=\"ArialMT-73\" d=\"M 197 991 \nL 753 1078 \nQ 800 744 1014 566 \nQ 1228 388 1613 388 \nQ 2000 388 2187 545 \nQ 2375 703 2375 916 \nQ 2375 1106 2209 1216 \nQ 2094 1291 1634 1406 \nQ 1016 1563 777 1677 \nQ 538 1791 414 1992 \nQ 291 2194 291 2438 \nQ 291 2659 392 2848 \nQ 494 3038 669 3163 \nQ 800 3259 1026 3326 \nQ 1253 3394 1513 3394 \nQ 1903 3394 2198 3281 \nQ 2494 3169 2634 2976 \nQ 2775 2784 2828 2463 \nL 2278 2388 \nQ 2241 2644 2061 2787 \nQ 1881 2931 1553 2931 \nQ 1166 2931 1000 2803 \nQ 834 2675 834 2503 \nQ 834 2394 903 2306 \nQ 972 2216 1119 2156 \nQ 1203 2125 1616 2013 \nQ 2213 1853 2448 1751 \nQ 2684 1650 2818 1456 \nQ 2953 1263 2953 975 \nQ 2953 694 2789 445 \nQ 2625 197 2315 61 \nQ 2006 -75 1616 -75 \nQ 969 -75 630 194 \nQ 291 463 197 991 \nz\n\" transform=\"scale(0.015625)\"/>\n       <path id=\"ArialMT-6f\" d=\"M 213 1659 \nQ 213 2581 725 3025 \nQ 1153 3394 1769 3394 \nQ 2453 3394 2887 2945 \nQ 3322 2497 3322 1706 \nQ 3322 1066 3130 698 \nQ 2938 331 2570 128 \nQ 2203 -75 1769 -75 \nQ 1072 -75 642 372 \nQ 213 819 213 1659 \nz\nM 791 1659 \nQ 791 1022 1069 705 \nQ 1347 388 1769 388 \nQ 2188 388 2466 706 \nQ 2744 1025 2744 1678 \nQ 2744 2294 2464 2611 \nQ 2184 2928 1769 2928 \nQ 1347 2928 1069 2612 \nQ 791 2297 791 1659 \nz\n\" transform=\"scale(0.015625)\"/>\n       <path id=\"ArialMT-64\" d=\"M 2575 0 \nL 2575 419 \nQ 2259 -75 1647 -75 \nQ 1250 -75 917 144 \nQ 584 363 401 755 \nQ 219 1147 219 1656 \nQ 219 2153 384 2558 \nQ 550 2963 881 3178 \nQ 1213 3394 1622 3394 \nQ 1922 3394 2156 3267 \nQ 2391 3141 2538 2938 \nL 2538 4581 \nL 3097 4581 \nL 3097 0 \nL 2575 0 \nz\nM 797 1656 \nQ 797 1019 1065 703 \nQ 1334 388 1700 388 \nQ 2069 388 2326 689 \nQ 2584 991 2584 1609 \nQ 2584 2291 2321 2609 \nQ 2059 2928 1675 2928 \nQ 1300 2928 1048 2622 \nQ 797 2316 797 1656 \nz\n\" transform=\"scale(0.015625)\"/>\n      </defs>\n      <use xlink:href=\"#ArialMT-65\"/>\n      <use xlink:href=\"#ArialMT-70\" x=\"55.615234\"/>\n      <use xlink:href=\"#ArialMT-69\" x=\"111.230469\"/>\n      <use xlink:href=\"#ArialMT-73\" x=\"133.447266\"/>\n      <use xlink:href=\"#ArialMT-6f\" x=\"183.447266\"/>\n      <use xlink:href=\"#ArialMT-64\" x=\"239.0625\"/>\n      <use xlink:href=\"#ArialMT-65\" x=\"294.677734\"/>\n      <use xlink:href=\"#ArialMT-73\" x=\"350.292969\"/>\n     </g>\n    </g>\n   </g>\n   <g id=\"matplotlib.axis_2\">\n    <g id=\"ytick_1\">\n     <g id=\"text_6\">\n      <!-- 0 -->\n      <g style=\"fill: #262626\" transform=\"translate(40.525469 277.248797) scale(0.11 -0.11)\">\n       <use xlink:href=\"#ArialMT-30\"/>\n      </g>\n     </g>\n    </g>\n    <g id=\"ytick_2\">\n     <g id=\"text_7\">\n      <!-- 1000 -->\n      <g style=\"fill: #262626\" transform=\"translate(22.174375 232.605499) scale(0.11 -0.11)\">\n       <use xlink:href=\"#ArialMT-31\"/>\n       <use xlink:href=\"#ArialMT-30\" x=\"55.615234\"/>\n       <use xlink:href=\"#ArialMT-30\" x=\"111.230469\"/>\n       <use xlink:href=\"#ArialMT-30\" x=\"166.845703\"/>\n      </g>\n     </g>\n    </g>\n    <g id=\"ytick_3\">\n     <g id=\"text_8\">\n      <!-- 2000 -->\n      <g style=\"fill: #262626\" transform=\"translate(22.174375 187.962202) scale(0.11 -0.11)\">\n       <use xlink:href=\"#ArialMT-32\"/>\n       <use xlink:href=\"#ArialMT-30\" x=\"55.615234\"/>\n       <use xlink:href=\"#ArialMT-30\" x=\"111.230469\"/>\n       <use xlink:href=\"#ArialMT-30\" x=\"166.845703\"/>\n      </g>\n     </g>\n    </g>\n    <g id=\"ytick_4\">\n     <g id=\"text_9\">\n      <!-- 3000 -->\n      <g style=\"fill: #262626\" transform=\"translate(22.174375 143.318904) scale(0.11 -0.11)\">\n       <use xlink:href=\"#ArialMT-33\"/>\n       <use xlink:href=\"#ArialMT-30\" x=\"55.615234\"/>\n       <use xlink:href=\"#ArialMT-30\" x=\"111.230469\"/>\n       <use xlink:href=\"#ArialMT-30\" x=\"166.845703\"/>\n      </g>\n     </g>\n    </g>\n    <g id=\"ytick_5\">\n     <g id=\"text_10\">\n      <!-- 4000 -->\n      <g style=\"fill: #262626\" transform=\"translate(22.174375 98.675607) scale(0.11 -0.11)\">\n       <defs>\n        <path id=\"ArialMT-34\" d=\"M 2069 0 \nL 2069 1097 \nL 81 1097 \nL 81 1613 \nL 2172 4581 \nL 2631 4581 \nL 2631 1613 \nL 3250 1613 \nL 3250 1097 \nL 2631 1097 \nL 2631 0 \nL 2069 0 \nz\nM 2069 1613 \nL 2069 3678 \nL 634 1613 \nL 2069 1613 \nz\n\" transform=\"scale(0.015625)\"/>\n       </defs>\n       <use xlink:href=\"#ArialMT-34\"/>\n       <use xlink:href=\"#ArialMT-30\" x=\"55.615234\"/>\n       <use xlink:href=\"#ArialMT-30\" x=\"111.230469\"/>\n       <use xlink:href=\"#ArialMT-30\" x=\"166.845703\"/>\n      </g>\n     </g>\n    </g>\n    <g id=\"ytick_6\">\n     <g id=\"text_11\">\n      <!-- 5000 -->\n      <g style=\"fill: #262626\" transform=\"translate(22.174375 54.032309) scale(0.11 -0.11)\">\n       <defs>\n        <path id=\"ArialMT-35\" d=\"M 266 1200 \nL 856 1250 \nQ 922 819 1161 601 \nQ 1400 384 1738 384 \nQ 2144 384 2425 690 \nQ 2706 997 2706 1503 \nQ 2706 1984 2436 2262 \nQ 2166 2541 1728 2541 \nQ 1456 2541 1237 2417 \nQ 1019 2294 894 2097 \nL 366 2166 \nL 809 4519 \nL 3088 4519 \nL 3088 3981 \nL 1259 3981 \nL 1013 2750 \nQ 1425 3038 1878 3038 \nQ 2478 3038 2890 2622 \nQ 3303 2206 3303 1553 \nQ 3303 931 2941 478 \nQ 2500 -78 1738 -78 \nQ 1113 -78 717 272 \nQ 322 622 266 1200 \nz\n\" transform=\"scale(0.015625)\"/>\n       </defs>\n       <use xlink:href=\"#ArialMT-35\"/>\n       <use xlink:href=\"#ArialMT-30\" x=\"55.615234\"/>\n       <use xlink:href=\"#ArialMT-30\" x=\"111.230469\"/>\n       <use xlink:href=\"#ArialMT-30\" x=\"166.845703\"/>\n      </g>\n     </g>\n    </g>\n    <g id=\"text_12\">\n     <!-- Count -->\n     <g style=\"fill: #262626\" transform=\"translate(15.789375 156.265688) rotate(-90) scale(0.12 -0.12)\">\n      <defs>\n       <path id=\"ArialMT-43\" d=\"M 3763 1606 \nL 4369 1453 \nQ 4178 706 3683 314 \nQ 3188 -78 2472 -78 \nQ 1731 -78 1267 223 \nQ 803 525 561 1097 \nQ 319 1669 319 2325 \nQ 319 3041 592 3573 \nQ 866 4106 1370 4382 \nQ 1875 4659 2481 4659 \nQ 3169 4659 3637 4309 \nQ 4106 3959 4291 3325 \nL 3694 3184 \nQ 3534 3684 3231 3912 \nQ 2928 4141 2469 4141 \nQ 1941 4141 1586 3887 \nQ 1231 3634 1087 3207 \nQ 944 2781 944 2328 \nQ 944 1744 1114 1308 \nQ 1284 872 1643 656 \nQ 2003 441 2422 441 \nQ 2931 441 3284 734 \nQ 3638 1028 3763 1606 \nz\n\" transform=\"scale(0.015625)\"/>\n       <path id=\"ArialMT-75\" d=\"M 2597 0 \nL 2597 488 \nQ 2209 -75 1544 -75 \nQ 1250 -75 995 37 \nQ 741 150 617 320 \nQ 494 491 444 738 \nQ 409 903 409 1263 \nL 409 3319 \nL 972 3319 \nL 972 1478 \nQ 972 1038 1006 884 \nQ 1059 663 1231 536 \nQ 1403 409 1656 409 \nQ 1909 409 2131 539 \nQ 2353 669 2445 892 \nQ 2538 1116 2538 1541 \nL 2538 3319 \nL 3100 3319 \nL 3100 0 \nL 2597 0 \nz\n\" transform=\"scale(0.015625)\"/>\n       <path id=\"ArialMT-6e\" d=\"M 422 0 \nL 422 3319 \nL 928 3319 \nL 928 2847 \nQ 1294 3394 1984 3394 \nQ 2284 3394 2536 3286 \nQ 2788 3178 2913 3003 \nQ 3038 2828 3088 2588 \nQ 3119 2431 3119 2041 \nL 3119 0 \nL 2556 0 \nL 2556 2019 \nQ 2556 2363 2490 2533 \nQ 2425 2703 2258 2804 \nQ 2091 2906 1866 2906 \nQ 1506 2906 1245 2678 \nQ 984 2450 984 1813 \nL 984 0 \nL 422 0 \nz\n\" transform=\"scale(0.015625)\"/>\n       <path id=\"ArialMT-74\" d=\"M 1650 503 \nL 1731 6 \nQ 1494 -44 1306 -44 \nQ 1000 -44 831 53 \nQ 663 150 594 308 \nQ 525 466 525 972 \nL 525 2881 \nL 113 2881 \nL 113 3319 \nL 525 3319 \nL 525 4141 \nL 1084 4478 \nL 1084 3319 \nL 1650 3319 \nL 1650 2881 \nL 1084 2881 \nL 1084 941 \nQ 1084 700 1114 631 \nQ 1144 563 1211 522 \nQ 1278 481 1403 481 \nQ 1497 481 1650 503 \nz\n\" transform=\"scale(0.015625)\"/>\n      </defs>\n      <use xlink:href=\"#ArialMT-43\"/>\n      <use xlink:href=\"#ArialMT-6f\" x=\"72.216797\"/>\n      <use xlink:href=\"#ArialMT-75\" x=\"127.832031\"/>\n      <use xlink:href=\"#ArialMT-6e\" x=\"183.447266\"/>\n      <use xlink:href=\"#ArialMT-74\" x=\"239.0625\"/>\n     </g>\n    </g>\n   </g>\n   <g id=\"patch_3\">\n    <path d=\"M 72.375227 273.312 \nL 81.651071 273.312 \nL 81.651071 19.872 \nL 72.375227 19.872 \nL 72.375227 273.312 \nz\n\" clip-path=\"url(#p0650cef833)\" style=\"fill: none; stroke: #4c72b0; stroke-width: 0.927584; stroke-linejoin: miter\"/>\n   </g>\n   <g id=\"patch_4\">\n    <path d=\"M 81.651071 273.312 \nL 90.926916 273.312 \nL 90.926916 273.312 \nL 81.651071 273.312 \nL 81.651071 273.312 \nz\n\" clip-path=\"url(#p0650cef833)\" style=\"fill: none; stroke: #4c72b0; stroke-width: 0.927584; stroke-linejoin: miter\"/>\n   </g>\n   <g id=\"patch_5\">\n    <path d=\"M 90.926916 273.312 \nL 100.20276 273.312 \nL 100.20276 273.312 \nL 90.926916 273.312 \nL 90.926916 273.312 \nz\n\" clip-path=\"url(#p0650cef833)\" style=\"fill: none; stroke: #4c72b0; stroke-width: 0.927584; stroke-linejoin: miter\"/>\n   </g>\n   <g id=\"patch_6\">\n    <path d=\"M 100.20276 273.312 \nL 109.478604 273.312 \nL 109.478604 225.275812 \nL 100.20276 225.275812 \nL 100.20276 273.312 \nz\n\" clip-path=\"url(#p0650cef833)\" style=\"fill: none; stroke: #4c72b0; stroke-width: 0.927584; stroke-linejoin: miter\"/>\n   </g>\n   <g id=\"patch_7\">\n    <path d=\"M 109.478604 273.312 \nL 118.754448 273.312 \nL 118.754448 273.312 \nL 109.478604 273.312 \nL 109.478604 273.312 \nz\n\" clip-path=\"url(#p0650cef833)\" style=\"fill: none; stroke: #4c72b0; stroke-width: 0.927584; stroke-linejoin: miter\"/>\n   </g>\n   <g id=\"patch_8\">\n    <path d=\"M 118.754448 273.312 \nL 128.030292 273.312 \nL 128.030292 250.767135 \nL 118.754448 250.767135 \nL 118.754448 273.312 \nz\n\" clip-path=\"url(#p0650cef833)\" style=\"fill: none; stroke: #4c72b0; stroke-width: 0.927584; stroke-linejoin: miter\"/>\n   </g>\n   <g id=\"patch_9\">\n    <path d=\"M 128.030292 273.312 \nL 137.306136 273.312 \nL 137.306136 258.713642 \nL 128.030292 258.713642 \nL 128.030292 273.312 \nz\n\" clip-path=\"url(#p0650cef833)\" style=\"fill: none; stroke: #4c72b0; stroke-width: 0.927584; stroke-linejoin: miter\"/>\n   </g>\n   <g id=\"patch_10\">\n    <path d=\"M 137.306136 273.312 \nL 146.581981 273.312 \nL 146.581981 267.910161 \nL 137.306136 267.910161 \nL 137.306136 273.312 \nz\n\" clip-path=\"url(#p0650cef833)\" style=\"fill: none; stroke: #4c72b0; stroke-width: 0.927584; stroke-linejoin: miter\"/>\n   </g>\n   <g id=\"patch_11\">\n    <path d=\"M 146.581981 273.312 \nL 155.857825 273.312 \nL 155.857825 261.347596 \nL 146.581981 261.347596 \nL 146.581981 273.312 \nz\n\" clip-path=\"url(#p0650cef833)\" style=\"fill: none; stroke: #4c72b0; stroke-width: 0.927584; stroke-linejoin: miter\"/>\n   </g>\n   <g id=\"patch_12\">\n    <path d=\"M 155.857825 273.312 \nL 165.133669 273.312 \nL 165.133669 267.419085 \nL 155.857825 267.419085 \nL 155.857825 273.312 \nz\n\" clip-path=\"url(#p0650cef833)\" style=\"fill: none; stroke: #4c72b0; stroke-width: 0.927584; stroke-linejoin: miter\"/>\n   </g>\n   <g id=\"patch_13\">\n    <path d=\"M 165.133669 273.312 \nL 174.409513 273.312 \nL 174.409513 266.436932 \nL 165.133669 266.436932 \nL 165.133669 273.312 \nz\n\" clip-path=\"url(#p0650cef833)\" style=\"fill: none; stroke: #4c72b0; stroke-width: 0.927584; stroke-linejoin: miter\"/>\n   </g>\n   <g id=\"patch_14\">\n    <path d=\"M 174.409513 273.312 \nL 183.685357 273.312 \nL 183.685357 208.132786 \nL 174.409513 208.132786 \nL 174.409513 273.312 \nz\n\" clip-path=\"url(#p0650cef833)\" style=\"fill: none; stroke: #4c72b0; stroke-width: 0.927584; stroke-linejoin: miter\"/>\n   </g>\n   <g id=\"patch_15\">\n    <path d=\"M 183.685357 273.312 \nL 192.961201 273.312 \nL 192.961201 269.606606 \nL 183.685357 269.606606 \nL 183.685357 273.312 \nz\n\" clip-path=\"url(#p0650cef833)\" style=\"fill: none; stroke: #4c72b0; stroke-width: 0.927584; stroke-linejoin: miter\"/>\n   </g>\n   <g id=\"patch_16\">\n    <path d=\"M 192.961201 273.312 \nL 202.237045 273.312 \nL 202.237045 270.811975 \nL 192.961201 270.811975 \nL 192.961201 273.312 \nz\n\" clip-path=\"url(#p0650cef833)\" style=\"fill: none; stroke: #4c72b0; stroke-width: 0.927584; stroke-linejoin: miter\"/>\n   </g>\n   <g id=\"patch_17\">\n    <path d=\"M 202.237045 273.312 \nL 211.51289 273.312 \nL 211.51289 261.213666 \nL 202.237045 261.213666 \nL 202.237045 273.312 \nz\n\" clip-path=\"url(#p0650cef833)\" style=\"fill: none; stroke: #4c72b0; stroke-width: 0.927584; stroke-linejoin: miter\"/>\n   </g>\n   <g id=\"patch_18\">\n    <path d=\"M 211.51289 273.312 \nL 220.788734 273.312 \nL 220.788734 240.54382 \nL 211.51289 240.54382 \nL 211.51289 273.312 \nz\n\" clip-path=\"url(#p0650cef833)\" style=\"fill: none; stroke: #4c72b0; stroke-width: 0.927584; stroke-linejoin: miter\"/>\n   </g>\n   <g id=\"patch_19\">\n    <path d=\"M 220.788734 273.312 \nL 230.064578 273.312 \nL 230.064578 268.535167 \nL 220.788734 268.535167 \nL 220.788734 273.312 \nz\n\" clip-path=\"url(#p0650cef833)\" style=\"fill: none; stroke: #4c72b0; stroke-width: 0.927584; stroke-linejoin: miter\"/>\n   </g>\n   <g id=\"patch_20\">\n    <path d=\"M 230.064578 273.312 \nL 239.340422 273.312 \nL 239.340422 263.847621 \nL 230.064578 263.847621 \nL 230.064578 273.312 \nz\n\" clip-path=\"url(#p0650cef833)\" style=\"fill: none; stroke: #4c72b0; stroke-width: 0.927584; stroke-linejoin: miter\"/>\n   </g>\n   <g id=\"patch_21\">\n    <path d=\"M 239.340422 273.312 \nL 248.616266 273.312 \nL 248.616266 252.552867 \nL 239.340422 252.552867 \nL 239.340422 273.312 \nz\n\" clip-path=\"url(#p0650cef833)\" style=\"fill: none; stroke: #4c72b0; stroke-width: 0.927584; stroke-linejoin: miter\"/>\n   </g>\n   <g id=\"patch_22\">\n    <path d=\"M 248.616266 273.312 \nL 257.89211 273.312 \nL 257.89211 270.544116 \nL 248.616266 270.544116 \nL 248.616266 273.312 \nz\n\" clip-path=\"url(#p0650cef833)\" style=\"fill: none; stroke: #4c72b0; stroke-width: 0.927584; stroke-linejoin: miter\"/>\n   </g>\n   <g id=\"patch_23\">\n    <path d=\"M 257.89211 273.312 \nL 267.167955 273.312 \nL 267.167955 270.856619 \nL 257.89211 270.856619 \nL 257.89211 273.312 \nz\n\" clip-path=\"url(#p0650cef833)\" style=\"fill: none; stroke: #4c72b0; stroke-width: 0.927584; stroke-linejoin: miter\"/>\n   </g>\n   <g id=\"patch_24\">\n    <path d=\"M 267.167955 273.312 \nL 276.443799 273.312 \nL 276.443799 270.276256 \nL 267.167955 270.276256 \nL 267.167955 273.312 \nz\n\" clip-path=\"url(#p0650cef833)\" style=\"fill: none; stroke: #4c72b0; stroke-width: 0.927584; stroke-linejoin: miter\"/>\n   </g>\n   <g id=\"patch_25\">\n    <path d=\"M 276.443799 273.312 \nL 285.719643 273.312 \nL 285.719643 272.061988 \nL 276.443799 272.061988 \nL 276.443799 273.312 \nz\n\" clip-path=\"url(#p0650cef833)\" style=\"fill: none; stroke: #4c72b0; stroke-width: 0.927584; stroke-linejoin: miter\"/>\n   </g>\n   <g id=\"patch_26\">\n    <path d=\"M 285.719643 273.312 \nL 294.995487 273.312 \nL 294.995487 271.794128 \nL 285.719643 271.794128 \nL 285.719643 273.312 \nz\n\" clip-path=\"url(#p0650cef833)\" style=\"fill: none; stroke: #4c72b0; stroke-width: 0.927584; stroke-linejoin: miter\"/>\n   </g>\n   <g id=\"patch_27\">\n    <path d=\"M 294.995487 273.312 \nL 304.271331 273.312 \nL 304.271331 272.553064 \nL 294.995487 272.553064 \nL 294.995487 273.312 \nz\n\" clip-path=\"url(#p0650cef833)\" style=\"fill: none; stroke: #4c72b0; stroke-width: 0.927584; stroke-linejoin: miter\"/>\n   </g>\n   <g id=\"patch_28\">\n    <path d=\"M 304.271331 273.312 \nL 313.547175 273.312 \nL 313.547175 272.820924 \nL 304.271331 272.820924 \nL 304.271331 273.312 \nz\n\" clip-path=\"url(#p0650cef833)\" style=\"fill: none; stroke: #4c72b0; stroke-width: 0.927584; stroke-linejoin: miter\"/>\n   </g>\n   <g id=\"patch_29\">\n    <path d=\"M 313.547175 273.312 \nL 322.823019 273.312 \nL 322.823019 272.865567 \nL 313.547175 272.865567 \nL 313.547175 273.312 \nz\n\" clip-path=\"url(#p0650cef833)\" style=\"fill: none; stroke: #4c72b0; stroke-width: 0.927584; stroke-linejoin: miter\"/>\n   </g>\n   <g id=\"patch_30\">\n    <path d=\"M 322.823019 273.312 \nL 332.098864 273.312 \nL 332.098864 272.999497 \nL 322.823019 272.999497 \nL 322.823019 273.312 \nz\n\" clip-path=\"url(#p0650cef833)\" style=\"fill: none; stroke: #4c72b0; stroke-width: 0.927584; stroke-linejoin: miter\"/>\n   </g>\n   <g id=\"patch_31\">\n    <path d=\"M 332.098864 273.312 \nL 341.374708 273.312 \nL 341.374708 273.267357 \nL 332.098864 273.267357 \nL 332.098864 273.312 \nz\n\" clip-path=\"url(#p0650cef833)\" style=\"fill: none; stroke: #4c72b0; stroke-width: 0.927584; stroke-linejoin: miter\"/>\n   </g>\n   <g id=\"patch_32\">\n    <path d=\"M 341.374708 273.312 \nL 350.650552 273.312 \nL 350.650552 273.222713 \nL 341.374708 273.222713 \nL 341.374708 273.312 \nz\n\" clip-path=\"url(#p0650cef833)\" style=\"fill: none; stroke: #4c72b0; stroke-width: 0.927584; stroke-linejoin: miter\"/>\n   </g>\n   <g id=\"patch_33\">\n    <path d=\"M 350.650552 273.312 \nL 359.926396 273.312 \nL 359.926396 273.222713 \nL 350.650552 273.222713 \nL 350.650552 273.312 \nz\n\" clip-path=\"url(#p0650cef833)\" style=\"fill: none; stroke: #4c72b0; stroke-width: 0.927584; stroke-linejoin: miter\"/>\n   </g>\n   <g id=\"patch_34\">\n    <path d=\"M 359.926396 273.312 \nL 369.20224 273.312 \nL 369.20224 273.267357 \nL 359.926396 273.267357 \nL 359.926396 273.312 \nz\n\" clip-path=\"url(#p0650cef833)\" style=\"fill: none; stroke: #4c72b0; stroke-width: 0.927584; stroke-linejoin: miter\"/>\n   </g>\n   <g id=\"patch_35\">\n    <path d=\"M 369.20224 273.312 \nL 378.478084 273.312 \nL 378.478084 273.267357 \nL 369.20224 273.267357 \nL 369.20224 273.312 \nz\n\" clip-path=\"url(#p0650cef833)\" style=\"fill: none; stroke: #4c72b0; stroke-width: 0.927584; stroke-linejoin: miter\"/>\n   </g>\n   <g id=\"patch_36\">\n    <path d=\"M 378.478084 273.312 \nL 387.753929 273.312 \nL 387.753929 273.17807 \nL 378.478084 273.17807 \nL 378.478084 273.312 \nz\n\" clip-path=\"url(#p0650cef833)\" style=\"fill: none; stroke: #4c72b0; stroke-width: 0.927584; stroke-linejoin: miter\"/>\n   </g>\n   <g id=\"patch_37\">\n    <path d=\"M 387.753929 273.312 \nL 397.029773 273.312 \nL 397.029773 273.133427 \nL 387.753929 273.133427 \nL 387.753929 273.312 \nz\n\" clip-path=\"url(#p0650cef833)\" style=\"fill: none; stroke: #4c72b0; stroke-width: 0.927584; stroke-linejoin: miter\"/>\n   </g>\n   <g id=\"patch_38\">\n    <path d=\"M 56.1425 273.312 \nL 56.1425 7.2 \n\" style=\"fill: none; stroke: #ffffff; stroke-width: 1.25; stroke-linejoin: miter; stroke-linecap: square\"/>\n   </g>\n   <g id=\"patch_39\">\n    <path d=\"M 413.2625 273.312 \nL 413.2625 7.2 \n\" style=\"fill: none; stroke: #ffffff; stroke-width: 1.25; stroke-linejoin: miter; stroke-linecap: square\"/>\n   </g>\n   <g id=\"patch_40\">\n    <path d=\"M 56.1425 273.312 \nL 413.2625 273.312 \n\" style=\"fill: none; stroke: #ffffff; stroke-width: 1.25; stroke-linejoin: miter; stroke-linecap: square\"/>\n   </g>\n   <g id=\"patch_41\">\n    <path d=\"M 56.1425 7.2 \nL 413.2625 7.2 \n\" style=\"fill: none; stroke: #ffffff; stroke-width: 1.25; stroke-linejoin: miter; stroke-linecap: square\"/>\n   </g>\n  </g>\n </g>\n <defs>\n  <clipPath id=\"p0650cef833\">\n   <rect x=\"56.1425\" y=\"7.2\" width=\"357.12\" height=\"266.112\"/>\n  </clipPath>\n </defs>\n</svg>\n",
      "text/plain": [
       "<Figure size 640x480 with 1 Axes>"
      ]
     },
     "metadata": {},
     "output_type": "display_data"
    }
   ],
   "source": [
    "sns.histplot(data=anime_df,x='episodes',log_scale=True,fill=False)\n",
    "plt.grid(False)\n",
    "plt.show()"
   ]
  },
  {
   "cell_type": "markdown",
   "metadata": {},
   "source": [
    "#### Rating"
   ]
  },
  {
   "cell_type": "code",
   "execution_count": 23,
   "metadata": {},
   "outputs": [
    {
     "data": {
      "image/svg+xml": "<?xml version=\"1.0\" encoding=\"utf-8\" standalone=\"no\"?>\n<!DOCTYPE svg PUBLIC \"-//W3C//DTD SVG 1.1//EN\"\n  \"http://www.w3.org/Graphics/SVG/1.1/DTD/svg11.dtd\">\n<svg xmlns:xlink=\"http://www.w3.org/1999/xlink\" width=\"414.345469pt\" height=\"315.186844pt\" viewBox=\"0 0 414.345469 315.186844\" xmlns=\"http://www.w3.org/2000/svg\" version=\"1.1\">\n <metadata>\n  <rdf:RDF xmlns:dc=\"http://purl.org/dc/elements/1.1/\" xmlns:cc=\"http://creativecommons.org/ns#\" xmlns:rdf=\"http://www.w3.org/1999/02/22-rdf-syntax-ns#\">\n   <cc:Work>\n    <dc:type rdf:resource=\"http://purl.org/dc/dcmitype/StillImage\"/>\n    <dc:date>2022-12-02T14:53:41.266942</dc:date>\n    <dc:format>image/svg+xml</dc:format>\n    <dc:creator>\n     <cc:Agent>\n      <dc:title>Matplotlib v3.6.2, https://matplotlib.org/</dc:title>\n     </cc:Agent>\n    </dc:creator>\n   </cc:Work>\n  </rdf:RDF>\n </metadata>\n <defs>\n  <style type=\"text/css\">*{stroke-linejoin: round; stroke-linecap: butt}</style>\n </defs>\n <g id=\"figure_1\">\n  <g id=\"patch_1\">\n   <path d=\"M 0 315.186844 \nL 414.345469 315.186844 \nL 414.345469 0 \nL 0 0 \nz\n\" style=\"fill: #ffffff\"/>\n  </g>\n  <g id=\"axes_1\">\n   <g id=\"patch_2\">\n    <path d=\"M 50.025469 273.312 \nL 407.145469 273.312 \nL 407.145469 7.2 \nL 50.025469 7.2 \nz\n\" style=\"fill: #eaeaf2\"/>\n   </g>\n   <g id=\"matplotlib.axis_1\">\n    <g id=\"xtick_1\">\n     <g id=\"line2d_1\">\n      <path d=\"M 79.119661 273.312 \nL 79.119661 7.2 \n\" clip-path=\"url(#p450ffafa2a)\" style=\"fill: none; stroke: #ffffff; stroke-linecap: round\"/>\n     </g>\n     <g id=\"text_1\">\n      <!-- 2 -->\n      <g style=\"fill: #262626\" transform=\"translate(76.061145 290.685594) scale(0.11 -0.11)\">\n       <defs>\n        <path id=\"ArialMT-32\" d=\"M 3222 541 \nL 3222 0 \nL 194 0 \nQ 188 203 259 391 \nQ 375 700 629 1000 \nQ 884 1300 1366 1694 \nQ 2113 2306 2375 2664 \nQ 2638 3022 2638 3341 \nQ 2638 3675 2398 3904 \nQ 2159 4134 1775 4134 \nQ 1369 4134 1125 3890 \nQ 881 3647 878 3216 \nL 300 3275 \nQ 359 3922 746 4261 \nQ 1134 4600 1788 4600 \nQ 2447 4600 2831 4234 \nQ 3216 3869 3216 3328 \nQ 3216 3053 3103 2787 \nQ 2991 2522 2730 2228 \nQ 2469 1934 1863 1422 \nQ 1356 997 1212 845 \nQ 1069 694 975 541 \nL 3222 541 \nz\n\" transform=\"scale(0.015625)\"/>\n       </defs>\n       <use xlink:href=\"#ArialMT-32\"/>\n      </g>\n     </g>\n    </g>\n    <g id=\"xtick_2\">\n     <g id=\"line2d_2\">\n      <path d=\"M 157.067931 273.312 \nL 157.067931 7.2 \n\" clip-path=\"url(#p450ffafa2a)\" style=\"fill: none; stroke: #ffffff; stroke-linecap: round\"/>\n     </g>\n     <g id=\"text_2\">\n      <!-- 4 -->\n      <g style=\"fill: #262626\" transform=\"translate(154.009415 290.685594) scale(0.11 -0.11)\">\n       <defs>\n        <path id=\"ArialMT-34\" d=\"M 2069 0 \nL 2069 1097 \nL 81 1097 \nL 81 1613 \nL 2172 4581 \nL 2631 4581 \nL 2631 1613 \nL 3250 1613 \nL 3250 1097 \nL 2631 1097 \nL 2631 0 \nL 2069 0 \nz\nM 2069 1613 \nL 2069 3678 \nL 634 1613 \nL 2069 1613 \nz\n\" transform=\"scale(0.015625)\"/>\n       </defs>\n       <use xlink:href=\"#ArialMT-34\"/>\n      </g>\n     </g>\n    </g>\n    <g id=\"xtick_3\">\n     <g id=\"line2d_3\">\n      <path d=\"M 235.016201 273.312 \nL 235.016201 7.2 \n\" clip-path=\"url(#p450ffafa2a)\" style=\"fill: none; stroke: #ffffff; stroke-linecap: round\"/>\n     </g>\n     <g id=\"text_3\">\n      <!-- 6 -->\n      <g style=\"fill: #262626\" transform=\"translate(231.957685 290.685594) scale(0.11 -0.11)\">\n       <defs>\n        <path id=\"ArialMT-36\" d=\"M 3184 3459 \nL 2625 3416 \nQ 2550 3747 2413 3897 \nQ 2184 4138 1850 4138 \nQ 1581 4138 1378 3988 \nQ 1113 3794 959 3422 \nQ 806 3050 800 2363 \nQ 1003 2672 1297 2822 \nQ 1591 2972 1913 2972 \nQ 2475 2972 2870 2558 \nQ 3266 2144 3266 1488 \nQ 3266 1056 3080 686 \nQ 2894 316 2569 119 \nQ 2244 -78 1831 -78 \nQ 1128 -78 684 439 \nQ 241 956 241 2144 \nQ 241 3472 731 4075 \nQ 1159 4600 1884 4600 \nQ 2425 4600 2770 4297 \nQ 3116 3994 3184 3459 \nz\nM 888 1484 \nQ 888 1194 1011 928 \nQ 1134 663 1356 523 \nQ 1578 384 1822 384 \nQ 2178 384 2434 671 \nQ 2691 959 2691 1453 \nQ 2691 1928 2437 2201 \nQ 2184 2475 1800 2475 \nQ 1419 2475 1153 2201 \nQ 888 1928 888 1484 \nz\n\" transform=\"scale(0.015625)\"/>\n       </defs>\n       <use xlink:href=\"#ArialMT-36\"/>\n      </g>\n     </g>\n    </g>\n    <g id=\"xtick_4\">\n     <g id=\"line2d_4\">\n      <path d=\"M 312.964471 273.312 \nL 312.964471 7.2 \n\" clip-path=\"url(#p450ffafa2a)\" style=\"fill: none; stroke: #ffffff; stroke-linecap: round\"/>\n     </g>\n     <g id=\"text_4\">\n      <!-- 8 -->\n      <g style=\"fill: #262626\" transform=\"translate(309.905956 290.685594) scale(0.11 -0.11)\">\n       <defs>\n        <path id=\"ArialMT-38\" d=\"M 1131 2484 \nQ 781 2613 612 2850 \nQ 444 3088 444 3419 \nQ 444 3919 803 4259 \nQ 1163 4600 1759 4600 \nQ 2359 4600 2725 4251 \nQ 3091 3903 3091 3403 \nQ 3091 3084 2923 2848 \nQ 2756 2613 2416 2484 \nQ 2838 2347 3058 2040 \nQ 3278 1734 3278 1309 \nQ 3278 722 2862 322 \nQ 2447 -78 1769 -78 \nQ 1091 -78 675 323 \nQ 259 725 259 1325 \nQ 259 1772 486 2073 \nQ 713 2375 1131 2484 \nz\nM 1019 3438 \nQ 1019 3113 1228 2906 \nQ 1438 2700 1772 2700 \nQ 2097 2700 2305 2904 \nQ 2513 3109 2513 3406 \nQ 2513 3716 2298 3927 \nQ 2084 4138 1766 4138 \nQ 1444 4138 1231 3931 \nQ 1019 3725 1019 3438 \nz\nM 838 1322 \nQ 838 1081 952 856 \nQ 1066 631 1291 507 \nQ 1516 384 1775 384 \nQ 2178 384 2440 643 \nQ 2703 903 2703 1303 \nQ 2703 1709 2433 1975 \nQ 2163 2241 1756 2241 \nQ 1359 2241 1098 1978 \nQ 838 1716 838 1322 \nz\n\" transform=\"scale(0.015625)\"/>\n       </defs>\n       <use xlink:href=\"#ArialMT-38\"/>\n      </g>\n     </g>\n    </g>\n    <g id=\"xtick_5\">\n     <g id=\"line2d_5\">\n      <path d=\"M 390.912741 273.312 \nL 390.912741 7.2 \n\" clip-path=\"url(#p450ffafa2a)\" style=\"fill: none; stroke: #ffffff; stroke-linecap: round\"/>\n     </g>\n     <g id=\"text_5\">\n      <!-- 10 -->\n      <g style=\"fill: #262626\" transform=\"translate(384.79571 290.685594) scale(0.11 -0.11)\">\n       <defs>\n        <path id=\"ArialMT-31\" d=\"M 2384 0 \nL 1822 0 \nL 1822 3584 \nQ 1619 3391 1289 3197 \nQ 959 3003 697 2906 \nL 697 3450 \nQ 1169 3672 1522 3987 \nQ 1875 4303 2022 4600 \nL 2384 4600 \nL 2384 0 \nz\n\" transform=\"scale(0.015625)\"/>\n        <path id=\"ArialMT-30\" d=\"M 266 2259 \nQ 266 3072 433 3567 \nQ 600 4063 929 4331 \nQ 1259 4600 1759 4600 \nQ 2128 4600 2406 4451 \nQ 2684 4303 2865 4023 \nQ 3047 3744 3150 3342 \nQ 3253 2941 3253 2259 \nQ 3253 1453 3087 958 \nQ 2922 463 2592 192 \nQ 2263 -78 1759 -78 \nQ 1097 -78 719 397 \nQ 266 969 266 2259 \nz\nM 844 2259 \nQ 844 1131 1108 757 \nQ 1372 384 1759 384 \nQ 2147 384 2411 759 \nQ 2675 1134 2675 2259 \nQ 2675 3391 2411 3762 \nQ 2147 4134 1753 4134 \nQ 1366 4134 1134 3806 \nQ 844 3388 844 2259 \nz\n\" transform=\"scale(0.015625)\"/>\n       </defs>\n       <use xlink:href=\"#ArialMT-31\"/>\n       <use xlink:href=\"#ArialMT-30\" x=\"55.615234\"/>\n      </g>\n     </g>\n    </g>\n    <g id=\"text_6\">\n     <!-- rating -->\n     <g style=\"fill: #262626\" transform=\"translate(213.577969 305.461219) scale(0.12 -0.12)\">\n      <defs>\n       <path id=\"ArialMT-72\" d=\"M 416 0 \nL 416 3319 \nL 922 3319 \nL 922 2816 \nQ 1116 3169 1280 3281 \nQ 1444 3394 1641 3394 \nQ 1925 3394 2219 3213 \nL 2025 2691 \nQ 1819 2813 1613 2813 \nQ 1428 2813 1281 2702 \nQ 1134 2591 1072 2394 \nQ 978 2094 978 1738 \nL 978 0 \nL 416 0 \nz\n\" transform=\"scale(0.015625)\"/>\n       <path id=\"ArialMT-61\" d=\"M 2588 409 \nQ 2275 144 1986 34 \nQ 1697 -75 1366 -75 \nQ 819 -75 525 192 \nQ 231 459 231 875 \nQ 231 1119 342 1320 \nQ 453 1522 633 1644 \nQ 813 1766 1038 1828 \nQ 1203 1872 1538 1913 \nQ 2219 1994 2541 2106 \nQ 2544 2222 2544 2253 \nQ 2544 2597 2384 2738 \nQ 2169 2928 1744 2928 \nQ 1347 2928 1158 2789 \nQ 969 2650 878 2297 \nL 328 2372 \nQ 403 2725 575 2942 \nQ 747 3159 1072 3276 \nQ 1397 3394 1825 3394 \nQ 2250 3394 2515 3294 \nQ 2781 3194 2906 3042 \nQ 3031 2891 3081 2659 \nQ 3109 2516 3109 2141 \nL 3109 1391 \nQ 3109 606 3145 398 \nQ 3181 191 3288 0 \nL 2700 0 \nQ 2613 175 2588 409 \nz\nM 2541 1666 \nQ 2234 1541 1622 1453 \nQ 1275 1403 1131 1340 \nQ 988 1278 909 1158 \nQ 831 1038 831 891 \nQ 831 666 1001 516 \nQ 1172 366 1500 366 \nQ 1825 366 2078 508 \nQ 2331 650 2450 897 \nQ 2541 1088 2541 1459 \nL 2541 1666 \nz\n\" transform=\"scale(0.015625)\"/>\n       <path id=\"ArialMT-74\" d=\"M 1650 503 \nL 1731 6 \nQ 1494 -44 1306 -44 \nQ 1000 -44 831 53 \nQ 663 150 594 308 \nQ 525 466 525 972 \nL 525 2881 \nL 113 2881 \nL 113 3319 \nL 525 3319 \nL 525 4141 \nL 1084 4478 \nL 1084 3319 \nL 1650 3319 \nL 1650 2881 \nL 1084 2881 \nL 1084 941 \nQ 1084 700 1114 631 \nQ 1144 563 1211 522 \nQ 1278 481 1403 481 \nQ 1497 481 1650 503 \nz\n\" transform=\"scale(0.015625)\"/>\n       <path id=\"ArialMT-69\" d=\"M 425 3934 \nL 425 4581 \nL 988 4581 \nL 988 3934 \nL 425 3934 \nz\nM 425 0 \nL 425 3319 \nL 988 3319 \nL 988 0 \nL 425 0 \nz\n\" transform=\"scale(0.015625)\"/>\n       <path id=\"ArialMT-6e\" d=\"M 422 0 \nL 422 3319 \nL 928 3319 \nL 928 2847 \nQ 1294 3394 1984 3394 \nQ 2284 3394 2536 3286 \nQ 2788 3178 2913 3003 \nQ 3038 2828 3088 2588 \nQ 3119 2431 3119 2041 \nL 3119 0 \nL 2556 0 \nL 2556 2019 \nQ 2556 2363 2490 2533 \nQ 2425 2703 2258 2804 \nQ 2091 2906 1866 2906 \nQ 1506 2906 1245 2678 \nQ 984 2450 984 1813 \nL 984 0 \nL 422 0 \nz\n\" transform=\"scale(0.015625)\"/>\n       <path id=\"ArialMT-67\" d=\"M 319 -275 \nL 866 -356 \nQ 900 -609 1056 -725 \nQ 1266 -881 1628 -881 \nQ 2019 -881 2231 -725 \nQ 2444 -569 2519 -288 \nQ 2563 -116 2559 434 \nQ 2191 0 1641 0 \nQ 956 0 581 494 \nQ 206 988 206 1678 \nQ 206 2153 378 2554 \nQ 550 2956 876 3175 \nQ 1203 3394 1644 3394 \nQ 2231 3394 2613 2919 \nL 2613 3319 \nL 3131 3319 \nL 3131 450 \nQ 3131 -325 2973 -648 \nQ 2816 -972 2473 -1159 \nQ 2131 -1347 1631 -1347 \nQ 1038 -1347 672 -1080 \nQ 306 -813 319 -275 \nz\nM 784 1719 \nQ 784 1066 1043 766 \nQ 1303 466 1694 466 \nQ 2081 466 2343 764 \nQ 2606 1063 2606 1700 \nQ 2606 2309 2336 2618 \nQ 2066 2928 1684 2928 \nQ 1309 2928 1046 2623 \nQ 784 2319 784 1719 \nz\n\" transform=\"scale(0.015625)\"/>\n      </defs>\n      <use xlink:href=\"#ArialMT-72\"/>\n      <use xlink:href=\"#ArialMT-61\" x=\"33.300781\"/>\n      <use xlink:href=\"#ArialMT-74\" x=\"88.916016\"/>\n      <use xlink:href=\"#ArialMT-69\" x=\"116.699219\"/>\n      <use xlink:href=\"#ArialMT-6e\" x=\"138.916016\"/>\n      <use xlink:href=\"#ArialMT-67\" x=\"194.53125\"/>\n     </g>\n    </g>\n   </g>\n   <g id=\"matplotlib.axis_2\">\n    <g id=\"ytick_1\">\n     <g id=\"line2d_6\">\n      <path d=\"M 50.025469 273.312 \nL 407.145469 273.312 \n\" clip-path=\"url(#p450ffafa2a)\" style=\"fill: none; stroke: #ffffff; stroke-linecap: round\"/>\n     </g>\n     <g id=\"text_7\">\n      <!-- 0 -->\n      <g style=\"fill: #262626\" transform=\"translate(34.408438 277.248797) scale(0.11 -0.11)\">\n       <use xlink:href=\"#ArialMT-30\"/>\n      </g>\n     </g>\n    </g>\n    <g id=\"ytick_2\">\n     <g id=\"line2d_7\">\n      <path d=\"M 50.025469 231.967791 \nL 407.145469 231.967791 \n\" clip-path=\"url(#p450ffafa2a)\" style=\"fill: none; stroke: #ffffff; stroke-linecap: round\"/>\n     </g>\n     <g id=\"text_8\">\n      <!-- 100 -->\n      <g style=\"fill: #262626\" transform=\"translate(22.174375 235.904588) scale(0.11 -0.11)\">\n       <use xlink:href=\"#ArialMT-31\"/>\n       <use xlink:href=\"#ArialMT-30\" x=\"55.615234\"/>\n       <use xlink:href=\"#ArialMT-30\" x=\"111.230469\"/>\n      </g>\n     </g>\n    </g>\n    <g id=\"ytick_3\">\n     <g id=\"line2d_8\">\n      <path d=\"M 50.025469 190.623582 \nL 407.145469 190.623582 \n\" clip-path=\"url(#p450ffafa2a)\" style=\"fill: none; stroke: #ffffff; stroke-linecap: round\"/>\n     </g>\n     <g id=\"text_9\">\n      <!-- 200 -->\n      <g style=\"fill: #262626\" transform=\"translate(22.174375 194.560379) scale(0.11 -0.11)\">\n       <use xlink:href=\"#ArialMT-32\"/>\n       <use xlink:href=\"#ArialMT-30\" x=\"55.615234\"/>\n       <use xlink:href=\"#ArialMT-30\" x=\"111.230469\"/>\n      </g>\n     </g>\n    </g>\n    <g id=\"ytick_4\">\n     <g id=\"line2d_9\">\n      <path d=\"M 50.025469 149.279374 \nL 407.145469 149.279374 \n\" clip-path=\"url(#p450ffafa2a)\" style=\"fill: none; stroke: #ffffff; stroke-linecap: round\"/>\n     </g>\n     <g id=\"text_10\">\n      <!-- 300 -->\n      <g style=\"fill: #262626\" transform=\"translate(22.174375 153.21617) scale(0.11 -0.11)\">\n       <defs>\n        <path id=\"ArialMT-33\" d=\"M 269 1209 \nL 831 1284 \nQ 928 806 1161 595 \nQ 1394 384 1728 384 \nQ 2125 384 2398 659 \nQ 2672 934 2672 1341 \nQ 2672 1728 2419 1979 \nQ 2166 2231 1775 2231 \nQ 1616 2231 1378 2169 \nL 1441 2663 \nQ 1497 2656 1531 2656 \nQ 1891 2656 2178 2843 \nQ 2466 3031 2466 3422 \nQ 2466 3731 2256 3934 \nQ 2047 4138 1716 4138 \nQ 1388 4138 1169 3931 \nQ 950 3725 888 3313 \nL 325 3413 \nQ 428 3978 793 4289 \nQ 1159 4600 1703 4600 \nQ 2078 4600 2393 4439 \nQ 2709 4278 2876 4000 \nQ 3044 3722 3044 3409 \nQ 3044 3113 2884 2869 \nQ 2725 2625 2413 2481 \nQ 2819 2388 3044 2092 \nQ 3269 1797 3269 1353 \nQ 3269 753 2831 336 \nQ 2394 -81 1725 -81 \nQ 1122 -81 723 278 \nQ 325 638 269 1209 \nz\n\" transform=\"scale(0.015625)\"/>\n       </defs>\n       <use xlink:href=\"#ArialMT-33\"/>\n       <use xlink:href=\"#ArialMT-30\" x=\"55.615234\"/>\n       <use xlink:href=\"#ArialMT-30\" x=\"111.230469\"/>\n      </g>\n     </g>\n    </g>\n    <g id=\"ytick_5\">\n     <g id=\"line2d_10\">\n      <path d=\"M 50.025469 107.935165 \nL 407.145469 107.935165 \n\" clip-path=\"url(#p450ffafa2a)\" style=\"fill: none; stroke: #ffffff; stroke-linecap: round\"/>\n     </g>\n     <g id=\"text_11\">\n      <!-- 400 -->\n      <g style=\"fill: #262626\" transform=\"translate(22.174375 111.871962) scale(0.11 -0.11)\">\n       <use xlink:href=\"#ArialMT-34\"/>\n       <use xlink:href=\"#ArialMT-30\" x=\"55.615234\"/>\n       <use xlink:href=\"#ArialMT-30\" x=\"111.230469\"/>\n      </g>\n     </g>\n    </g>\n    <g id=\"ytick_6\">\n     <g id=\"line2d_11\">\n      <path d=\"M 50.025469 66.590956 \nL 407.145469 66.590956 \n\" clip-path=\"url(#p450ffafa2a)\" style=\"fill: none; stroke: #ffffff; stroke-linecap: round\"/>\n     </g>\n     <g id=\"text_12\">\n      <!-- 500 -->\n      <g style=\"fill: #262626\" transform=\"translate(22.174375 70.527753) scale(0.11 -0.11)\">\n       <defs>\n        <path id=\"ArialMT-35\" d=\"M 266 1200 \nL 856 1250 \nQ 922 819 1161 601 \nQ 1400 384 1738 384 \nQ 2144 384 2425 690 \nQ 2706 997 2706 1503 \nQ 2706 1984 2436 2262 \nQ 2166 2541 1728 2541 \nQ 1456 2541 1237 2417 \nQ 1019 2294 894 2097 \nL 366 2166 \nL 809 4519 \nL 3088 4519 \nL 3088 3981 \nL 1259 3981 \nL 1013 2750 \nQ 1425 3038 1878 3038 \nQ 2478 3038 2890 2622 \nQ 3303 2206 3303 1553 \nQ 3303 931 2941 478 \nQ 2500 -78 1738 -78 \nQ 1113 -78 717 272 \nQ 322 622 266 1200 \nz\n\" transform=\"scale(0.015625)\"/>\n       </defs>\n       <use xlink:href=\"#ArialMT-35\"/>\n       <use xlink:href=\"#ArialMT-30\" x=\"55.615234\"/>\n       <use xlink:href=\"#ArialMT-30\" x=\"111.230469\"/>\n      </g>\n     </g>\n    </g>\n    <g id=\"ytick_7\">\n     <g id=\"line2d_12\">\n      <path d=\"M 50.025469 25.246747 \nL 407.145469 25.246747 \n\" clip-path=\"url(#p450ffafa2a)\" style=\"fill: none; stroke: #ffffff; stroke-linecap: round\"/>\n     </g>\n     <g id=\"text_13\">\n      <!-- 600 -->\n      <g style=\"fill: #262626\" transform=\"translate(22.174375 29.183544) scale(0.11 -0.11)\">\n       <use xlink:href=\"#ArialMT-36\"/>\n       <use xlink:href=\"#ArialMT-30\" x=\"55.615234\"/>\n       <use xlink:href=\"#ArialMT-30\" x=\"111.230469\"/>\n      </g>\n     </g>\n    </g>\n    <g id=\"text_14\">\n     <!-- Count -->\n     <g style=\"fill: #262626\" transform=\"translate(15.789375 156.265688) rotate(-90) scale(0.12 -0.12)\">\n      <defs>\n       <path id=\"ArialMT-43\" d=\"M 3763 1606 \nL 4369 1453 \nQ 4178 706 3683 314 \nQ 3188 -78 2472 -78 \nQ 1731 -78 1267 223 \nQ 803 525 561 1097 \nQ 319 1669 319 2325 \nQ 319 3041 592 3573 \nQ 866 4106 1370 4382 \nQ 1875 4659 2481 4659 \nQ 3169 4659 3637 4309 \nQ 4106 3959 4291 3325 \nL 3694 3184 \nQ 3534 3684 3231 3912 \nQ 2928 4141 2469 4141 \nQ 1941 4141 1586 3887 \nQ 1231 3634 1087 3207 \nQ 944 2781 944 2328 \nQ 944 1744 1114 1308 \nQ 1284 872 1643 656 \nQ 2003 441 2422 441 \nQ 2931 441 3284 734 \nQ 3638 1028 3763 1606 \nz\n\" transform=\"scale(0.015625)\"/>\n       <path id=\"ArialMT-6f\" d=\"M 213 1659 \nQ 213 2581 725 3025 \nQ 1153 3394 1769 3394 \nQ 2453 3394 2887 2945 \nQ 3322 2497 3322 1706 \nQ 3322 1066 3130 698 \nQ 2938 331 2570 128 \nQ 2203 -75 1769 -75 \nQ 1072 -75 642 372 \nQ 213 819 213 1659 \nz\nM 791 1659 \nQ 791 1022 1069 705 \nQ 1347 388 1769 388 \nQ 2188 388 2466 706 \nQ 2744 1025 2744 1678 \nQ 2744 2294 2464 2611 \nQ 2184 2928 1769 2928 \nQ 1347 2928 1069 2612 \nQ 791 2297 791 1659 \nz\n\" transform=\"scale(0.015625)\"/>\n       <path id=\"ArialMT-75\" d=\"M 2597 0 \nL 2597 488 \nQ 2209 -75 1544 -75 \nQ 1250 -75 995 37 \nQ 741 150 617 320 \nQ 494 491 444 738 \nQ 409 903 409 1263 \nL 409 3319 \nL 972 3319 \nL 972 1478 \nQ 972 1038 1006 884 \nQ 1059 663 1231 536 \nQ 1403 409 1656 409 \nQ 1909 409 2131 539 \nQ 2353 669 2445 892 \nQ 2538 1116 2538 1541 \nL 2538 3319 \nL 3100 3319 \nL 3100 0 \nL 2597 0 \nz\n\" transform=\"scale(0.015625)\"/>\n      </defs>\n      <use xlink:href=\"#ArialMT-43\"/>\n      <use xlink:href=\"#ArialMT-6f\" x=\"72.216797\"/>\n      <use xlink:href=\"#ArialMT-75\" x=\"127.832031\"/>\n      <use xlink:href=\"#ArialMT-6e\" x=\"183.447266\"/>\n      <use xlink:href=\"#ArialMT-74\" x=\"239.0625\"/>\n     </g>\n    </g>\n   </g>\n   <g id=\"patch_3\">\n    <path d=\"M 66.258196 273.312 \nL 70.64542 273.312 \nL 70.64542 272.898558 \nL 66.258196 272.898558 \nz\n\" clip-path=\"url(#p450ffafa2a)\" style=\"fill: #4c72b0; fill-opacity: 0.5; stroke: #ffffff; stroke-width: 0.438722; stroke-linejoin: miter\"/>\n   </g>\n   <g id=\"patch_4\">\n    <path d=\"M 70.64542 273.312 \nL 75.032643 273.312 \nL 75.032643 273.312 \nL 70.64542 273.312 \nz\n\" clip-path=\"url(#p450ffafa2a)\" style=\"fill: #4c72b0; fill-opacity: 0.5; stroke: #ffffff; stroke-width: 0.438722; stroke-linejoin: miter\"/>\n   </g>\n   <g id=\"patch_5\">\n    <path d=\"M 75.032643 273.312 \nL 79.419867 273.312 \nL 79.419867 272.485116 \nL 75.032643 272.485116 \nz\n\" clip-path=\"url(#p450ffafa2a)\" style=\"fill: #4c72b0; fill-opacity: 0.5; stroke: #ffffff; stroke-width: 0.438722; stroke-linejoin: miter\"/>\n   </g>\n   <g id=\"patch_6\">\n    <path d=\"M 79.419867 273.312 \nL 83.80709 273.312 \nL 83.80709 273.312 \nL 79.419867 273.312 \nz\n\" clip-path=\"url(#p450ffafa2a)\" style=\"fill: #4c72b0; fill-opacity: 0.5; stroke: #ffffff; stroke-width: 0.438722; stroke-linejoin: miter\"/>\n   </g>\n   <g id=\"patch_7\">\n    <path d=\"M 83.80709 273.312 \nL 88.194314 273.312 \nL 88.194314 272.898558 \nL 83.80709 272.898558 \nz\n\" clip-path=\"url(#p450ffafa2a)\" style=\"fill: #4c72b0; fill-opacity: 0.5; stroke: #ffffff; stroke-width: 0.438722; stroke-linejoin: miter\"/>\n   </g>\n   <g id=\"patch_8\">\n    <path d=\"M 88.194314 273.312 \nL 92.581538 273.312 \nL 92.581538 273.312 \nL 88.194314 273.312 \nz\n\" clip-path=\"url(#p450ffafa2a)\" style=\"fill: #4c72b0; fill-opacity: 0.5; stroke: #ffffff; stroke-width: 0.438722; stroke-linejoin: miter\"/>\n   </g>\n   <g id=\"patch_9\">\n    <path d=\"M 92.581538 273.312 \nL 96.968761 273.312 \nL 96.968761 272.898558 \nL 92.581538 272.898558 \nz\n\" clip-path=\"url(#p450ffafa2a)\" style=\"fill: #4c72b0; fill-opacity: 0.5; stroke: #ffffff; stroke-width: 0.438722; stroke-linejoin: miter\"/>\n   </g>\n   <g id=\"patch_10\">\n    <path d=\"M 96.968761 273.312 \nL 101.355985 273.312 \nL 101.355985 272.485116 \nL 96.968761 272.485116 \nz\n\" clip-path=\"url(#p450ffafa2a)\" style=\"fill: #4c72b0; fill-opacity: 0.5; stroke: #ffffff; stroke-width: 0.438722; stroke-linejoin: miter\"/>\n   </g>\n   <g id=\"patch_11\">\n    <path d=\"M 101.355985 273.312 \nL 105.743208 273.312 \nL 105.743208 271.658232 \nL 101.355985 271.658232 \nz\n\" clip-path=\"url(#p450ffafa2a)\" style=\"fill: #4c72b0; fill-opacity: 0.5; stroke: #ffffff; stroke-width: 0.438722; stroke-linejoin: miter\"/>\n   </g>\n   <g id=\"patch_12\">\n    <path d=\"M 105.743208 273.312 \nL 110.130432 273.312 \nL 110.130432 271.24479 \nL 105.743208 271.24479 \nz\n\" clip-path=\"url(#p450ffafa2a)\" style=\"fill: #4c72b0; fill-opacity: 0.5; stroke: #ffffff; stroke-width: 0.438722; stroke-linejoin: miter\"/>\n   </g>\n   <g id=\"patch_13\">\n    <path d=\"M 110.130432 273.312 \nL 114.517655 273.312 \nL 114.517655 272.071674 \nL 110.130432 272.071674 \nz\n\" clip-path=\"url(#p450ffafa2a)\" style=\"fill: #4c72b0; fill-opacity: 0.5; stroke: #ffffff; stroke-width: 0.438722; stroke-linejoin: miter\"/>\n   </g>\n   <g id=\"patch_14\">\n    <path d=\"M 114.517655 273.312 \nL 118.904879 273.312 \nL 118.904879 267.937253 \nL 114.517655 267.937253 \nz\n\" clip-path=\"url(#p450ffafa2a)\" style=\"fill: #4c72b0; fill-opacity: 0.5; stroke: #ffffff; stroke-width: 0.438722; stroke-linejoin: miter\"/>\n   </g>\n   <g id=\"patch_15\">\n    <path d=\"M 118.904879 273.312 \nL 123.292103 273.312 \nL 123.292103 272.071674 \nL 118.904879 272.071674 \nz\n\" clip-path=\"url(#p450ffafa2a)\" style=\"fill: #4c72b0; fill-opacity: 0.5; stroke: #ffffff; stroke-width: 0.438722; stroke-linejoin: miter\"/>\n   </g>\n   <g id=\"patch_16\">\n    <path d=\"M 123.292103 273.312 \nL 127.679326 273.312 \nL 127.679326 271.658232 \nL 123.292103 271.658232 \nz\n\" clip-path=\"url(#p450ffafa2a)\" style=\"fill: #4c72b0; fill-opacity: 0.5; stroke: #ffffff; stroke-width: 0.438722; stroke-linejoin: miter\"/>\n   </g>\n   <g id=\"patch_17\">\n    <path d=\"M 127.679326 273.312 \nL 132.06655 273.312 \nL 132.06655 265.870042 \nL 127.679326 265.870042 \nz\n\" clip-path=\"url(#p450ffafa2a)\" style=\"fill: #4c72b0; fill-opacity: 0.5; stroke: #ffffff; stroke-width: 0.438722; stroke-linejoin: miter\"/>\n   </g>\n   <g id=\"patch_18\">\n    <path d=\"M 132.06655 273.312 \nL 136.453773 273.312 \nL 136.453773 263.38939 \nL 132.06655 263.38939 \nz\n\" clip-path=\"url(#p450ffafa2a)\" style=\"fill: #4c72b0; fill-opacity: 0.5; stroke: #ffffff; stroke-width: 0.438722; stroke-linejoin: miter\"/>\n   </g>\n   <g id=\"patch_19\">\n    <path d=\"M 136.453773 273.312 \nL 140.840997 273.312 \nL 140.840997 260.495295 \nL 136.453773 260.495295 \nz\n\" clip-path=\"url(#p450ffafa2a)\" style=\"fill: #4c72b0; fill-opacity: 0.5; stroke: #ffffff; stroke-width: 0.438722; stroke-linejoin: miter\"/>\n   </g>\n   <g id=\"patch_20\">\n    <path d=\"M 140.840997 273.312 \nL 145.228221 273.312 \nL 145.228221 259.254969 \nL 140.840997 259.254969 \nz\n\" clip-path=\"url(#p450ffafa2a)\" style=\"fill: #4c72b0; fill-opacity: 0.5; stroke: #ffffff; stroke-width: 0.438722; stroke-linejoin: miter\"/>\n   </g>\n   <g id=\"patch_21\">\n    <path d=\"M 145.228221 273.312 \nL 149.615444 273.312 \nL 149.615444 259.668411 \nL 145.228221 259.668411 \nz\n\" clip-path=\"url(#p450ffafa2a)\" style=\"fill: #4c72b0; fill-opacity: 0.5; stroke: #ffffff; stroke-width: 0.438722; stroke-linejoin: miter\"/>\n   </g>\n   <g id=\"patch_22\">\n    <path d=\"M 149.615444 273.312 \nL 154.002668 273.312 \nL 154.002668 257.601201 \nL 149.615444 257.601201 \nz\n\" clip-path=\"url(#p450ffafa2a)\" style=\"fill: #4c72b0; fill-opacity: 0.5; stroke: #ffffff; stroke-width: 0.438722; stroke-linejoin: miter\"/>\n   </g>\n   <g id=\"patch_23\">\n    <path d=\"M 154.002668 273.312 \nL 158.389891 273.312 \nL 158.389891 251.399569 \nL 154.002668 251.399569 \nz\n\" clip-path=\"url(#p450ffafa2a)\" style=\"fill: #4c72b0; fill-opacity: 0.5; stroke: #ffffff; stroke-width: 0.438722; stroke-linejoin: miter\"/>\n   </g>\n   <g id=\"patch_24\">\n    <path d=\"M 158.389891 273.312 \nL 162.777115 273.312 \nL 162.777115 253.053338 \nL 158.389891 253.053338 \nz\n\" clip-path=\"url(#p450ffafa2a)\" style=\"fill: #4c72b0; fill-opacity: 0.5; stroke: #ffffff; stroke-width: 0.438722; stroke-linejoin: miter\"/>\n   </g>\n   <g id=\"patch_25\">\n    <path d=\"M 162.777115 273.312 \nL 167.164339 273.312 \nL 167.164339 246.851706 \nL 162.777115 246.851706 \nz\n\" clip-path=\"url(#p450ffafa2a)\" style=\"fill: #4c72b0; fill-opacity: 0.5; stroke: #ffffff; stroke-width: 0.438722; stroke-linejoin: miter\"/>\n   </g>\n   <g id=\"patch_26\">\n    <path d=\"M 167.164339 273.312 \nL 171.551562 273.312 \nL 171.551562 241.890401 \nL 167.164339 241.890401 \nz\n\" clip-path=\"url(#p450ffafa2a)\" style=\"fill: #4c72b0; fill-opacity: 0.5; stroke: #ffffff; stroke-width: 0.438722; stroke-linejoin: miter\"/>\n   </g>\n   <g id=\"patch_27\">\n    <path d=\"M 171.551562 273.312 \nL 175.938786 273.312 \nL 175.938786 246.438264 \nL 171.551562 246.438264 \nz\n\" clip-path=\"url(#p450ffafa2a)\" style=\"fill: #4c72b0; fill-opacity: 0.5; stroke: #ffffff; stroke-width: 0.438722; stroke-linejoin: miter\"/>\n   </g>\n   <g id=\"patch_28\">\n    <path d=\"M 175.938786 273.312 \nL 180.326009 273.312 \nL 180.326009 234.861886 \nL 175.938786 234.861886 \nz\n\" clip-path=\"url(#p450ffafa2a)\" style=\"fill: #4c72b0; fill-opacity: 0.5; stroke: #ffffff; stroke-width: 0.438722; stroke-linejoin: miter\"/>\n   </g>\n   <g id=\"patch_29\">\n    <path d=\"M 180.326009 273.312 \nL 184.713233 273.312 \nL 184.713233 237.75598 \nL 180.326009 237.75598 \nz\n\" clip-path=\"url(#p450ffafa2a)\" style=\"fill: #4c72b0; fill-opacity: 0.5; stroke: #ffffff; stroke-width: 0.438722; stroke-linejoin: miter\"/>\n   </g>\n   <g id=\"patch_30\">\n    <path d=\"M 184.713233 273.312 \nL 189.100456 273.312 \nL 189.100456 221.218297 \nL 184.713233 221.218297 \nz\n\" clip-path=\"url(#p450ffafa2a)\" style=\"fill: #4c72b0; fill-opacity: 0.5; stroke: #ffffff; stroke-width: 0.438722; stroke-linejoin: miter\"/>\n   </g>\n   <g id=\"patch_31\">\n    <path d=\"M 189.100456 273.312 \nL 193.48768 273.312 \nL 193.48768 226.593044 \nL 189.100456 226.593044 \nz\n\" clip-path=\"url(#p450ffafa2a)\" style=\"fill: #4c72b0; fill-opacity: 0.5; stroke: #ffffff; stroke-width: 0.438722; stroke-linejoin: miter\"/>\n   </g>\n   <g id=\"patch_32\">\n    <path d=\"M 193.48768 273.312 \nL 197.874904 273.312 \nL 197.874904 210.055361 \nL 193.48768 210.055361 \nz\n\" clip-path=\"url(#p450ffafa2a)\" style=\"fill: #4c72b0; fill-opacity: 0.5; stroke: #ffffff; stroke-width: 0.438722; stroke-linejoin: miter\"/>\n   </g>\n   <g id=\"patch_33\">\n    <path d=\"M 197.874904 273.312 \nL 202.262127 273.312 \nL 202.262127 195.584887 \nL 197.874904 195.584887 \nz\n\" clip-path=\"url(#p450ffafa2a)\" style=\"fill: #4c72b0; fill-opacity: 0.5; stroke: #ffffff; stroke-width: 0.438722; stroke-linejoin: miter\"/>\n   </g>\n   <g id=\"patch_34\">\n    <path d=\"M 202.262127 273.312 \nL 206.649351 273.312 \nL 206.649351 189.383256 \nL 202.262127 189.383256 \nz\n\" clip-path=\"url(#p450ffafa2a)\" style=\"fill: #4c72b0; fill-opacity: 0.5; stroke: #ffffff; stroke-width: 0.438722; stroke-linejoin: miter\"/>\n   </g>\n   <g id=\"patch_35\">\n    <path d=\"M 206.649351 273.312 \nL 211.036574 273.312 \nL 211.036574 184.008509 \nL 206.649351 184.008509 \nz\n\" clip-path=\"url(#p450ffafa2a)\" style=\"fill: #4c72b0; fill-opacity: 0.5; stroke: #ffffff; stroke-width: 0.438722; stroke-linejoin: miter\"/>\n   </g>\n   <g id=\"patch_36\">\n    <path d=\"M 211.036574 273.312 \nL 215.423798 273.312 \nL 215.423798 179.047204 \nL 211.036574 179.047204 \nz\n\" clip-path=\"url(#p450ffafa2a)\" style=\"fill: #4c72b0; fill-opacity: 0.5; stroke: #ffffff; stroke-width: 0.438722; stroke-linejoin: miter\"/>\n   </g>\n   <g id=\"patch_37\">\n    <path d=\"M 215.423798 273.312 \nL 219.811022 273.312 \nL 219.811022 155.894447 \nL 215.423798 155.894447 \nz\n\" clip-path=\"url(#p450ffafa2a)\" style=\"fill: #4c72b0; fill-opacity: 0.5; stroke: #ffffff; stroke-width: 0.438722; stroke-linejoin: miter\"/>\n   </g>\n   <g id=\"patch_38\">\n    <path d=\"M 219.811022 273.312 \nL 224.198245 273.312 \nL 224.198245 130.67448 \nL 219.811022 130.67448 \nz\n\" clip-path=\"url(#p450ffafa2a)\" style=\"fill: #4c72b0; fill-opacity: 0.5; stroke: #ffffff; stroke-width: 0.438722; stroke-linejoin: miter\"/>\n   </g>\n   <g id=\"patch_39\">\n    <path d=\"M 224.198245 273.312 \nL 228.585469 273.312 \nL 228.585469 137.702995 \nL 224.198245 137.702995 \nz\n\" clip-path=\"url(#p450ffafa2a)\" style=\"fill: #4c72b0; fill-opacity: 0.5; stroke: #ffffff; stroke-width: 0.438722; stroke-linejoin: miter\"/>\n   </g>\n   <g id=\"patch_40\">\n    <path d=\"M 228.585469 273.312 \nL 232.972692 273.312 \nL 232.972692 131.501364 \nL 228.585469 131.501364 \nz\n\" clip-path=\"url(#p450ffafa2a)\" style=\"fill: #4c72b0; fill-opacity: 0.5; stroke: #ffffff; stroke-width: 0.438722; stroke-linejoin: miter\"/>\n   </g>\n   <g id=\"patch_41\">\n    <path d=\"M 232.972692 273.312 \nL 237.359916 273.312 \nL 237.359916 83.542082 \nL 232.972692 83.542082 \nz\n\" clip-path=\"url(#p450ffafa2a)\" style=\"fill: #4c72b0; fill-opacity: 0.5; stroke: #ffffff; stroke-width: 0.438722; stroke-linejoin: miter\"/>\n   </g>\n   <g id=\"patch_42\">\n    <path d=\"M 237.359916 273.312 \nL 241.74714 273.312 \nL 241.74714 102.146976 \nL 237.359916 102.146976 \nz\n\" clip-path=\"url(#p450ffafa2a)\" style=\"fill: #4c72b0; fill-opacity: 0.5; stroke: #ffffff; stroke-width: 0.438722; stroke-linejoin: miter\"/>\n   </g>\n   <g id=\"patch_43\">\n    <path d=\"M 241.74714 273.312 \nL 246.134363 273.312 \nL 246.134363 67.41784 \nL 241.74714 67.41784 \nz\n\" clip-path=\"url(#p450ffafa2a)\" style=\"fill: #4c72b0; fill-opacity: 0.5; stroke: #ffffff; stroke-width: 0.438722; stroke-linejoin: miter\"/>\n   </g>\n   <g id=\"patch_44\">\n    <path d=\"M 246.134363 273.312 \nL 250.521587 273.312 \nL 250.521587 46.745736 \nL 246.134363 46.745736 \nz\n\" clip-path=\"url(#p450ffafa2a)\" style=\"fill: #4c72b0; fill-opacity: 0.5; stroke: #ffffff; stroke-width: 0.438722; stroke-linejoin: miter\"/>\n   </g>\n   <g id=\"patch_45\">\n    <path d=\"M 250.521587 273.312 \nL 254.90881 273.312 \nL 254.90881 19.872 \nL 250.521587 19.872 \nz\n\" clip-path=\"url(#p450ffafa2a)\" style=\"fill: #4c72b0; fill-opacity: 0.5; stroke: #ffffff; stroke-width: 0.438722; stroke-linejoin: miter\"/>\n   </g>\n   <g id=\"patch_46\">\n    <path d=\"M 254.90881 273.312 \nL 259.296034 273.312 \nL 259.296034 35.169357 \nL 254.90881 35.169357 \nz\n\" clip-path=\"url(#p450ffafa2a)\" style=\"fill: #4c72b0; fill-opacity: 0.5; stroke: #ffffff; stroke-width: 0.438722; stroke-linejoin: miter\"/>\n   </g>\n   <g id=\"patch_47\">\n    <path d=\"M 259.296034 273.312 \nL 263.683257 273.312 \nL 263.683257 30.208052 \nL 259.296034 30.208052 \nz\n\" clip-path=\"url(#p450ffafa2a)\" style=\"fill: #4c72b0; fill-opacity: 0.5; stroke: #ffffff; stroke-width: 0.438722; stroke-linejoin: miter\"/>\n   </g>\n   <g id=\"patch_48\">\n    <path d=\"M 263.683257 273.312 \nL 268.070481 273.312 \nL 268.070481 24.006421 \nL 263.683257 24.006421 \nz\n\" clip-path=\"url(#p450ffafa2a)\" style=\"fill: #4c72b0; fill-opacity: 0.5; stroke: #ffffff; stroke-width: 0.438722; stroke-linejoin: miter\"/>\n   </g>\n   <g id=\"patch_49\">\n    <path d=\"M 268.070481 273.312 \nL 272.457705 273.312 \nL 272.457705 62.043093 \nL 268.070481 62.043093 \nz\n\" clip-path=\"url(#p450ffafa2a)\" style=\"fill: #4c72b0; fill-opacity: 0.5; stroke: #ffffff; stroke-width: 0.438722; stroke-linejoin: miter\"/>\n   </g>\n   <g id=\"patch_50\">\n    <path d=\"M 272.457705 273.312 \nL 276.844928 273.312 \nL 276.844928 62.456535 \nL 272.457705 62.456535 \nz\n\" clip-path=\"url(#p450ffafa2a)\" style=\"fill: #4c72b0; fill-opacity: 0.5; stroke: #ffffff; stroke-width: 0.438722; stroke-linejoin: miter\"/>\n   </g>\n   <g id=\"patch_51\">\n    <path d=\"M 276.844928 273.312 \nL 281.232152 273.312 \nL 281.232152 59.975883 \nL 276.844928 59.975883 \nz\n\" clip-path=\"url(#p450ffafa2a)\" style=\"fill: #4c72b0; fill-opacity: 0.5; stroke: #ffffff; stroke-width: 0.438722; stroke-linejoin: miter\"/>\n   </g>\n   <g id=\"patch_52\">\n    <path d=\"M 281.232152 273.312 \nL 285.619375 273.312 \nL 285.619375 87.26306 \nL 281.232152 87.26306 \nz\n\" clip-path=\"url(#p450ffafa2a)\" style=\"fill: #4c72b0; fill-opacity: 0.5; stroke: #ffffff; stroke-width: 0.438722; stroke-linejoin: miter\"/>\n   </g>\n   <g id=\"patch_53\">\n    <path d=\"M 285.619375 273.312 \nL 290.006599 273.312 \nL 290.006599 74.859798 \nL 285.619375 74.859798 \nz\n\" clip-path=\"url(#p450ffafa2a)\" style=\"fill: #4c72b0; fill-opacity: 0.5; stroke: #ffffff; stroke-width: 0.438722; stroke-linejoin: miter\"/>\n   </g>\n   <g id=\"patch_54\">\n    <path d=\"M 290.006599 273.312 \nL 294.393823 273.312 \nL 294.393823 94.291576 \nL 290.006599 94.291576 \nz\n\" clip-path=\"url(#p450ffafa2a)\" style=\"fill: #4c72b0; fill-opacity: 0.5; stroke: #ffffff; stroke-width: 0.438722; stroke-linejoin: miter\"/>\n   </g>\n   <g id=\"patch_55\">\n    <path d=\"M 294.393823 273.312 \nL 298.781046 273.312 \nL 298.781046 145.558395 \nL 294.393823 145.558395 \nz\n\" clip-path=\"url(#p450ffafa2a)\" style=\"fill: #4c72b0; fill-opacity: 0.5; stroke: #ffffff; stroke-width: 0.438722; stroke-linejoin: miter\"/>\n   </g>\n   <g id=\"patch_56\">\n    <path d=\"M 298.781046 273.312 \nL 303.16827 273.312 \nL 303.16827 169.951478 \nL 298.781046 169.951478 \nz\n\" clip-path=\"url(#p450ffafa2a)\" style=\"fill: #4c72b0; fill-opacity: 0.5; stroke: #ffffff; stroke-width: 0.438722; stroke-linejoin: miter\"/>\n   </g>\n   <g id=\"patch_57\">\n    <path d=\"M 303.16827 273.312 \nL 307.555493 273.312 \nL 307.555493 175.739667 \nL 303.16827 175.739667 \nz\n\" clip-path=\"url(#p450ffafa2a)\" style=\"fill: #4c72b0; fill-opacity: 0.5; stroke: #ffffff; stroke-width: 0.438722; stroke-linejoin: miter\"/>\n   </g>\n   <g id=\"patch_58\">\n    <path d=\"M 307.555493 273.312 \nL 311.942717 273.312 \nL 311.942717 193.517677 \nL 307.555493 193.517677 \nz\n\" clip-path=\"url(#p450ffafa2a)\" style=\"fill: #4c72b0; fill-opacity: 0.5; stroke: #ffffff; stroke-width: 0.438722; stroke-linejoin: miter\"/>\n   </g>\n   <g id=\"patch_59\">\n    <path d=\"M 311.942717 273.312 \nL 316.32994 273.312 \nL 316.32994 209.228476 \nL 311.942717 209.228476 \nz\n\" clip-path=\"url(#p450ffafa2a)\" style=\"fill: #4c72b0; fill-opacity: 0.5; stroke: #ffffff; stroke-width: 0.438722; stroke-linejoin: miter\"/>\n   </g>\n   <g id=\"patch_60\">\n    <path d=\"M 316.32994 273.312 \nL 320.717164 273.312 \nL 320.717164 221.218297 \nL 316.32994 221.218297 \nz\n\" clip-path=\"url(#p450ffafa2a)\" style=\"fill: #4c72b0; fill-opacity: 0.5; stroke: #ffffff; stroke-width: 0.438722; stroke-linejoin: miter\"/>\n   </g>\n   <g id=\"patch_61\">\n    <path d=\"M 320.717164 273.312 \nL 325.104388 273.312 \nL 325.104388 231.140907 \nL 320.717164 231.140907 \nz\n\" clip-path=\"url(#p450ffafa2a)\" style=\"fill: #4c72b0; fill-opacity: 0.5; stroke: #ffffff; stroke-width: 0.438722; stroke-linejoin: miter\"/>\n   </g>\n   <g id=\"patch_62\">\n    <path d=\"M 325.104388 273.312 \nL 329.491611 273.312 \nL 329.491611 234.035002 \nL 325.104388 234.035002 \nz\n\" clip-path=\"url(#p450ffafa2a)\" style=\"fill: #4c72b0; fill-opacity: 0.5; stroke: #ffffff; stroke-width: 0.438722; stroke-linejoin: miter\"/>\n   </g>\n   <g id=\"patch_63\">\n    <path d=\"M 329.491611 273.312 \nL 333.878835 273.312 \nL 333.878835 247.678591 \nL 329.491611 247.678591 \nz\n\" clip-path=\"url(#p450ffafa2a)\" style=\"fill: #4c72b0; fill-opacity: 0.5; stroke: #ffffff; stroke-width: 0.438722; stroke-linejoin: miter\"/>\n   </g>\n   <g id=\"patch_64\">\n    <path d=\"M 333.878835 273.312 \nL 338.266058 273.312 \nL 338.266058 258.014643 \nL 333.878835 258.014643 \nz\n\" clip-path=\"url(#p450ffafa2a)\" style=\"fill: #4c72b0; fill-opacity: 0.5; stroke: #ffffff; stroke-width: 0.438722; stroke-linejoin: miter\"/>\n   </g>\n   <g id=\"patch_65\">\n    <path d=\"M 338.266058 273.312 \nL 342.653282 273.312 \nL 342.653282 262.149064 \nL 338.266058 262.149064 \nz\n\" clip-path=\"url(#p450ffafa2a)\" style=\"fill: #4c72b0; fill-opacity: 0.5; stroke: #ffffff; stroke-width: 0.438722; stroke-linejoin: miter\"/>\n   </g>\n   <g id=\"patch_66\">\n    <path d=\"M 342.653282 273.312 \nL 347.040506 273.312 \nL 347.040506 267.523811 \nL 342.653282 267.523811 \nz\n\" clip-path=\"url(#p450ffafa2a)\" style=\"fill: #4c72b0; fill-opacity: 0.5; stroke: #ffffff; stroke-width: 0.438722; stroke-linejoin: miter\"/>\n   </g>\n   <g id=\"patch_67\">\n    <path d=\"M 347.040506 273.312 \nL 351.427729 273.312 \nL 351.427729 271.24479 \nL 347.040506 271.24479 \nz\n\" clip-path=\"url(#p450ffafa2a)\" style=\"fill: #4c72b0; fill-opacity: 0.5; stroke: #ffffff; stroke-width: 0.438722; stroke-linejoin: miter\"/>\n   </g>\n   <g id=\"patch_68\">\n    <path d=\"M 351.427729 273.312 \nL 355.814953 273.312 \nL 355.814953 269.591021 \nL 351.427729 269.591021 \nz\n\" clip-path=\"url(#p450ffafa2a)\" style=\"fill: #4c72b0; fill-opacity: 0.5; stroke: #ffffff; stroke-width: 0.438722; stroke-linejoin: miter\"/>\n   </g>\n   <g id=\"patch_69\">\n    <path d=\"M 355.814953 273.312 \nL 360.202176 273.312 \nL 360.202176 270.417905 \nL 355.814953 270.417905 \nz\n\" clip-path=\"url(#p450ffafa2a)\" style=\"fill: #4c72b0; fill-opacity: 0.5; stroke: #ffffff; stroke-width: 0.438722; stroke-linejoin: miter\"/>\n   </g>\n   <g id=\"patch_70\">\n    <path d=\"M 360.202176 273.312 \nL 364.5894 273.312 \nL 364.5894 272.071674 \nL 360.202176 272.071674 \nz\n\" clip-path=\"url(#p450ffafa2a)\" style=\"fill: #4c72b0; fill-opacity: 0.5; stroke: #ffffff; stroke-width: 0.438722; stroke-linejoin: miter\"/>\n   </g>\n   <g id=\"patch_71\">\n    <path d=\"M 364.5894 273.312 \nL 368.976624 273.312 \nL 368.976624 272.485116 \nL 364.5894 272.485116 \nz\n\" clip-path=\"url(#p450ffafa2a)\" style=\"fill: #4c72b0; fill-opacity: 0.5; stroke: #ffffff; stroke-width: 0.438722; stroke-linejoin: miter\"/>\n   </g>\n   <g id=\"patch_72\">\n    <path d=\"M 368.976624 273.312 \nL 373.363847 273.312 \nL 373.363847 272.898558 \nL 368.976624 272.898558 \nz\n\" clip-path=\"url(#p450ffafa2a)\" style=\"fill: #4c72b0; fill-opacity: 0.5; stroke: #ffffff; stroke-width: 0.438722; stroke-linejoin: miter\"/>\n   </g>\n   <g id=\"patch_73\">\n    <path d=\"M 373.363847 273.312 \nL 377.751071 273.312 \nL 377.751071 272.898558 \nL 373.363847 272.898558 \nz\n\" clip-path=\"url(#p450ffafa2a)\" style=\"fill: #4c72b0; fill-opacity: 0.5; stroke: #ffffff; stroke-width: 0.438722; stroke-linejoin: miter\"/>\n   </g>\n   <g id=\"patch_74\">\n    <path d=\"M 377.751071 273.312 \nL 382.138294 273.312 \nL 382.138294 273.312 \nL 377.751071 273.312 \nz\n\" clip-path=\"url(#p450ffafa2a)\" style=\"fill: #4c72b0; fill-opacity: 0.5; stroke: #ffffff; stroke-width: 0.438722; stroke-linejoin: miter\"/>\n   </g>\n   <g id=\"patch_75\">\n    <path d=\"M 382.138294 273.312 \nL 386.525518 273.312 \nL 386.525518 273.312 \nL 382.138294 273.312 \nz\n\" clip-path=\"url(#p450ffafa2a)\" style=\"fill: #4c72b0; fill-opacity: 0.5; stroke: #ffffff; stroke-width: 0.438722; stroke-linejoin: miter\"/>\n   </g>\n   <g id=\"patch_76\">\n    <path d=\"M 386.525518 273.312 \nL 390.912741 273.312 \nL 390.912741 272.898558 \nL 386.525518 272.898558 \nz\n\" clip-path=\"url(#p450ffafa2a)\" style=\"fill: #4c72b0; fill-opacity: 0.5; stroke: #ffffff; stroke-width: 0.438722; stroke-linejoin: miter\"/>\n   </g>\n   <g id=\"line2d_13\">\n    <path d=\"M 66.258196 273.146104 \nL 84.203925 273.00826 \nL 90.729644 272.959351 \nL 95.623934 272.698526 \nL 102.149653 272.04215 \nL 111.938233 271.044843 \nL 118.463952 270.358211 \nL 121.726812 269.81222 \nL 123.358242 269.398778 \nL 124.989672 268.859906 \nL 128.252531 267.400111 \nL 133.146821 264.630755 \nL 136.409681 262.813908 \nL 139.67254 261.263922 \nL 142.9354 260.008093 \nL 147.82969 258.241811 \nL 151.09255 256.713733 \nL 154.355409 254.727681 \nL 157.618269 252.372285 \nL 164.143989 247.408256 \nL 167.406848 245.204373 \nL 175.563998 240.093448 \nL 177.195428 238.806718 \nL 178.826858 237.338009 \nL 180.458287 235.670324 \nL 182.089717 233.799918 \nL 183.721147 231.729675 \nL 185.352577 229.459127 \nL 186.984007 226.976606 \nL 188.615437 224.26009 \nL 190.246867 221.289395 \nL 193.509726 214.622149 \nL 208.192595 182.043226 \nL 211.455455 173.688966 \nL 216.349745 160.135388 \nL 221.244034 146.687506 \nL 226.138324 133.452016 \nL 229.401184 123.663657 \nL 232.664043 112.630771 \nL 235.926903 100.567669 \nL 239.189763 87.59435 \nL 247.346912 53.724506 \nL 248.978342 48.068383 \nL 250.609772 43.201632 \nL 252.241202 39.17766 \nL 253.872632 35.990348 \nL 255.504062 33.613511 \nL 257.135492 32.041941 \nL 258.766921 31.315883 \nL 260.398351 31.515826 \nL 262.029781 32.724665 \nL 263.661211 34.968328 \nL 265.292641 38.159317 \nL 266.924071 42.072646 \nL 271.81836 54.739417 \nL 273.44979 58.343075 \nL 275.08122 61.515222 \nL 279.97551 70.115395 \nL 281.60694 73.325893 \nL 283.23837 76.95835 \nL 284.869799 81.130959 \nL 286.501229 85.968441 \nL 288.132659 91.598962 \nL 289.764089 98.123643 \nL 291.395519 105.571368 \nL 293.026949 113.860996 \nL 296.289809 132.065764 \nL 299.552668 150.328163 \nL 301.184098 158.770291 \nL 302.815528 166.547597 \nL 304.446958 173.638488 \nL 306.078388 180.104361 \nL 309.341248 191.611714 \nL 312.604107 201.925574 \nL 315.866967 211.439584 \nL 319.129827 220.109026 \nL 322.392687 227.88876 \nL 325.655546 234.952844 \nL 328.918406 241.54668 \nL 332.181266 247.78012 \nL 335.444126 253.559747 \nL 338.706985 258.657536 \nL 340.338415 260.875737 \nL 341.969845 262.843773 \nL 343.601275 264.549615 \nL 345.232705 265.991045 \nL 346.864135 267.176977 \nL 348.495565 268.128375 \nL 350.126995 268.877673 \nL 353.389854 269.936471 \nL 356.652714 270.678899 \nL 363.178434 271.868164 \nL 368.072723 272.501065 \nL 372.967013 272.868205 \nL 379.492732 273.123001 \nL 387.649882 273.18991 \nL 390.912741 273.188192 \nL 390.912741 273.188192 \n\" clip-path=\"url(#p450ffafa2a)\" style=\"fill: none; stroke: #4c72b0; stroke-width: 1.5; stroke-linecap: round\"/>\n   </g>\n   <g id=\"patch_77\">\n    <path d=\"M 50.025469 273.312 \nL 50.025469 7.2 \n\" style=\"fill: none; stroke: #ffffff; stroke-width: 1.25; stroke-linejoin: miter; stroke-linecap: square\"/>\n   </g>\n   <g id=\"patch_78\">\n    <path d=\"M 407.145469 273.312 \nL 407.145469 7.2 \n\" style=\"fill: none; stroke: #ffffff; stroke-width: 1.25; stroke-linejoin: miter; stroke-linecap: square\"/>\n   </g>\n   <g id=\"patch_79\">\n    <path d=\"M 50.025469 273.312 \nL 407.145469 273.312 \n\" style=\"fill: none; stroke: #ffffff; stroke-width: 1.25; stroke-linejoin: miter; stroke-linecap: square\"/>\n   </g>\n   <g id=\"patch_80\">\n    <path d=\"M 50.025469 7.2 \nL 407.145469 7.2 \n\" style=\"fill: none; stroke: #ffffff; stroke-width: 1.25; stroke-linejoin: miter; stroke-linecap: square\"/>\n   </g>\n  </g>\n </g>\n <defs>\n  <clipPath id=\"p450ffafa2a\">\n   <rect x=\"50.025469\" y=\"7.2\" width=\"357.12\" height=\"266.112\"/>\n  </clipPath>\n </defs>\n</svg>\n",
      "text/plain": [
       "<Figure size 640x480 with 1 Axes>"
      ]
     },
     "metadata": {},
     "output_type": "display_data"
    }
   ],
   "source": [
    "sns.histplot(data=anime_df, x=\"rating\",kde=True)\n",
    "plt.show()"
   ]
  },
  {
   "cell_type": "markdown",
   "metadata": {},
   "source": [
    "- seems like rating follows a nice normal distribution"
   ]
  }
 ],
 "metadata": {
  "kernelspec": {
   "display_name": "Python 3.10.8 ('anime_recs')",
   "language": "python",
   "name": "python3"
  },
  "language_info": {
   "codemirror_mode": {
    "name": "ipython",
    "version": 3
   },
   "file_extension": ".py",
   "mimetype": "text/x-python",
   "name": "python",
   "nbconvert_exporter": "python",
   "pygments_lexer": "ipython3",
   "version": "3.10.8"
  },
  "orig_nbformat": 4,
  "vscode": {
   "interpreter": {
    "hash": "744b198112fe44d77ec7531745c672fb42f08ef3236fcbd487d14876886be924"
   }
  }
 },
 "nbformat": 4,
 "nbformat_minor": 2
}
